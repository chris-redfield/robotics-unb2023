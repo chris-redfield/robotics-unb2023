{
 "cells": [
  {
   "cell_type": "code",
   "execution_count": 1,
   "id": "31f85670",
   "metadata": {},
   "outputs": [],
   "source": [
    "import numpy as np"
   ]
  },
  {
   "cell_type": "markdown",
   "id": "48a1be2f",
   "metadata": {},
   "source": [
    "### Questão 1 (peso 0,10):\n",
    "Considere a figura abaixo. Um robô é colocado a 1 metro de uma mesa cuja duas de suas pernas estão sobre o eixo y 0 , como mostrado. O topo da mesa está a 1 metro de altura da base do robô, e tem 1 metro quadrado. Um sistema de coordenadas **o1x1y1z1** é fixado na intersecção de suas arestas da mesa, como mostrado. Um cubo medindo 20cm de\n",
    "lado é colocado no centro da mesa, com um sistema de coordenadas **o2x2y2z2** estabelecido no seu centro, como mostrado. Uma câmera é posicionada a 2 metros acima do topo da mesa, com um sistema de coordenadas **o3x3y3z3** . Ache as transformações homogêneas relacionando cada um desses sistemas ao sistema da base o **0x0y0z0** . Ache a transformação homogênea relacionando o sistema **o2x2y2z2** ao sistema **o3x3y3z3**."
   ]
  },
  {
   "cell_type": "markdown",
   "id": "804ce309",
   "metadata": {},
   "source": [
    "<img src=\"img/1.jpg\" width=\"400px\">"
   ]
  },
  {
   "cell_type": "markdown",
   "id": "53e146d1",
   "metadata": {},
   "source": [
    "#### Resposta\n",
    "para **0x0y0z0** e **o1x1y1z1** temos somente a translação em y e em z, portanto a matriz de transformação será R = I (identidade) * t"
   ]
  },
  {
   "cell_type": "code",
   "execution_count": 2,
   "id": "aa5a154c",
   "metadata": {},
   "outputs": [
    {
     "data": {
      "text/plain": [
       "array([[1, 0, 0, 0],\n",
       "       [0, 1, 0, 1],\n",
       "       [0, 0, 1, 1],\n",
       "       [0, 0, 0, 1]])"
      ]
     },
     "execution_count": 2,
     "metadata": {},
     "output_type": "execute_result"
    }
   ],
   "source": [
    "np.array([\n",
    "    [1,0,0,0], # translação em x = 0\n",
    "    [0,1,0,1], # translação em y = 1\n",
    "    [0,0,1,1], # translação em z = 1\n",
    "    [0,0,0,1]  # dimensão extra da matriz homogênea\n",
    "])"
   ]
  },
  {
   "cell_type": "markdown",
   "id": "8da37e15",
   "metadata": {},
   "source": [
    "para **0x0y0z0** e **o2x2y2z2**, também não temos rotação, portanto a parte de rotação da matriz seguirá sendo a identidade"
   ]
  },
  {
   "cell_type": "code",
   "execution_count": 3,
   "id": "58ca83cd",
   "metadata": {},
   "outputs": [
    {
     "data": {
      "text/plain": [
       "array([[ 1. ,  0. ,  0. , -0.5],\n",
       "       [ 0. ,  1. ,  0. ,  1.5],\n",
       "       [ 0. ,  0. ,  1. ,  1.1],\n",
       "       [ 0. ,  0. ,  0. ,  1. ]])"
      ]
     },
     "execution_count": 3,
     "metadata": {},
     "output_type": "execute_result"
    }
   ],
   "source": [
    "np.array([\n",
    "    [1,0,0,-0.5], # translação em x = -0.5m\n",
    "    [0,1,0, 1.5], # translação em y = 1 + 0.5m (distancia ate a mesa + 50cm até o centro da mesa)\n",
    "    [0,0,1, 1.1], # translação em z = 1m + 0.1m (distancia até a altura da mesa + distancia até centro do cubo, que é em 10cm a mais de altura)\n",
    "    [0,0,0, 1. ]  # dimensão extra da matriz homogênea\n",
    "])"
   ]
  },
  {
   "cell_type": "markdown",
   "id": "aeebbaf5",
   "metadata": {},
   "source": [
    "para **0x0y0z0** e **o3x3y3z3**, teremos a rotação e a translação a seguir:"
   ]
  },
  {
   "cell_type": "code",
   "execution_count": 4,
   "id": "a4889a6f",
   "metadata": {},
   "outputs": [
    {
     "data": {
      "text/plain": [
       "array([[ 0. ,  1. ,  0. , -0.5],\n",
       "       [ 1. ,  0. ,  0. ,  1.5],\n",
       "       [ 0. ,  0. , -1. ,  3. ],\n",
       "       [ 0. ,  0. ,  0. ,  1. ]])"
      ]
     },
     "execution_count": 4,
     "metadata": {},
     "output_type": "execute_result"
    }
   ],
   "source": [
    "rot_o3x3y3z3 = np.array([\n",
    "   # colunas \n",
    "   # x,y,z\n",
    "    [0,1, 0], # eixo y novo aponta para x do sistema anterior\n",
    "    [1,0, 0], # eixo x novo aponta para y do sistema anterior\n",
    "    [0,0,-1], # eixo z novo aponta para -z do sistema anterior\n",
    "    [0,0, 0]  # dimensão extra da matriz homogenea\n",
    "])\n",
    "\n",
    "trans_o3x3y3z3 = np.array([\n",
    "    [-0.5], # translação em x = -0.5m\n",
    "    [ 1.5], # translação em y = 1m + 0.5m\n",
    "    [ 3. ], # translação em z = 3m\n",
    "    [ 1. ]  # dimensão extra da matriz homogenea\n",
    "])\n",
    "\n",
    "np.concatenate((rot_o3x3y3z3, trans_o3x3y3z3), axis=1)"
   ]
  },
  {
   "cell_type": "markdown",
   "id": "2befdbfb",
   "metadata": {},
   "source": [
    "Finalmente, para a transformação homogênea relacionando o sistema **o2x2y2z2** ao sistema **o3x3y3z3**, temos a mesma rotação entre o0 e o3, pois os eixos te o0 e o2 estão alinhados."
   ]
  },
  {
   "cell_type": "code",
   "execution_count": 5,
   "id": "76cfde28",
   "metadata": {},
   "outputs": [
    {
     "data": {
      "text/plain": [
       "array([[ 0. ,  1. ,  0. ,  0. ],\n",
       "       [ 1. ,  0. ,  0. ,  0. ],\n",
       "       [ 0. ,  0. , -1. ,  1.9],\n",
       "       [ 0. ,  0. ,  0. ,  1. ]])"
      ]
     },
     "execution_count": 5,
     "metadata": {},
     "output_type": "execute_result"
    }
   ],
   "source": [
    "rot2_para_3 = np.array([\n",
    "   # colunas \n",
    "   # x,y,z\n",
    "    [0,1, 0], # eixo y novo aponta para x do sistema anterior\n",
    "    [1,0, 0], # eixo x novo aponta para y do sistema anterior\n",
    "    [0,0,-1], # eixo z novo aponta para  -z do sistema anterior\n",
    "    [0,0, 0]  # dimensão extra da matriz homogenea\n",
    "])\n",
    "\n",
    "trans2_para_3 = np.array([\n",
    "    [0. ], # translação em x = 0m\n",
    "    [0. ], # translação em y = 0m\n",
    "    [1.9], # translação em z = 1.9m, pois precisamos considerar os 10 cm da superficie da mesa até o centro do cubo\n",
    "           # por essa razão, ao invés de 2m, ficariam 2m - 10cm, 1.9m\n",
    "    [1. ]  # dimensão extra da matriz homogenea\n",
    "])\n",
    "\n",
    "np.concatenate((rot2_para_3, trans2_para_3), axis=1)"
   ]
  },
  {
   "cell_type": "markdown",
   "id": "e4575b04",
   "metadata": {},
   "source": [
    "### Questão 2 (peso 0,10):\n",
    "Considere o manipulador de 5 graus de liberdade mostrado em sua\n",
    "posição zero. Derive as equações da sua cinemática direta, utilizando, para tanto, a convenção\n",
    "de Denavit-Hartenberg clássica. Não é preciso escrever a matriz geral do manipulador, basta\n",
    "desenvolver as matrizes que relacionam os elos. Derive as equações que resolvem cada um\n",
    "dos ângulos de orientação em X-Y-Z da ferramenta em função das variáveis de junta, na\n",
    "expressão mais simples possível."
   ]
  },
  {
   "cell_type": "markdown",
   "id": "ae7e9dd7",
   "metadata": {},
   "source": [
    "<img src=\"img/2.jpg\" width=\"400px\">"
   ]
  },
  {
   "cell_type": "markdown",
   "id": "80b3a5e9",
   "metadata": {},
   "source": [
    "**Resposta**\n",
    "\n",
    "A especificação da matriz A é feita seguindo-se a ordem de\n",
    "transformações homogêneas de translação e rotação que reposicionam\n",
    "o sistema i – 1 ao i:\n",
    "- rotação em torno do eixo Z<sub>i-1</sub> do ângulo $\\theta$<sub>i</sub> entre os elos;\n",
    "- translação ao longo do eixo Z<sub>i-1</sub> da distância d<sub>i</sub> entre os elos;\n",
    "- translação ao longo do eixo X<sub>i</sub> (eixo X<sub>i-1</sub> atual) do comprimento do elo (L<sub>i</sub> );\n",
    "- rotação em torno do eixo X<sub>i</sub> do ângulo ($\\alpha$<sub>i</sub> ).\n",
    "\n",
    "= Rot(Z, $\\theta$<sub>i</sub> ) . Trans (0, 0, d<sub>i</sub> ) . Trans(L<sub>i</sub>, 0, 0). Rot(X, $\\alpha$<sub>i</sub> )"
   ]
  },
  {
   "cell_type": "code",
   "execution_count": 6,
   "id": "f80d7cd5",
   "metadata": {},
   "outputs": [
    {
     "data": {
      "text/html": [
       "<style>\n",
       "table {float:left}\n",
       "</style>\n"
      ],
      "text/plain": [
       "<IPython.core.display.HTML object>"
      ]
     },
     "metadata": {},
     "output_type": "display_data"
    }
   ],
   "source": [
    "%%html\n",
    "<style>\n",
    "table {float:left}\n",
    "</style>"
   ]
  },
  {
   "cell_type": "markdown",
   "id": "19a2d58f",
   "metadata": {},
   "source": [
    "**Parâmetros de elos**:\n",
    "\n",
    "| Elo | rot_z  | trans_z | trans_x | rot_x |\n",
    "|-----|--------|---------|---------|-------|\n",
    "| l1  | 0      | 0       | 0       | 0     |\n",
    "| l2  | $\\theta$<sub>1</sub> | 0       | 0       | 0     |\n",
    "| l3  | $\\theta$<sub>3</sub> | l2      | 0       | 45    |\n",
    "| l4  | $\\theta$<sub>4</sub> | l4      | 0       | 45    |\n",
    "| l5  | $\\theta$<sub>5</sub> | l5      | 0       | 0     |"
   ]
  },
  {
   "cell_type": "code",
   "execution_count": 7,
   "id": "7af56815",
   "metadata": {},
   "outputs": [
    {
     "name": "stdout",
     "output_type": "stream",
     "text": [
      "Matriz A, elo 1, não há transformações pois há somente uma translação de l1 no eixo y:\n"
     ]
    },
    {
     "data": {
      "text/plain": [
       "array([[1, 0, 0, 0],\n",
       "       [0, 1, 0, 0],\n",
       "       [0, 0, 1, 0],\n",
       "       [0, 0, 0, 1]])"
      ]
     },
     "execution_count": 7,
     "metadata": {},
     "output_type": "execute_result"
    }
   ],
   "source": [
    "print(\"Matriz A, elo 1, não há transformações pois há somente uma translação de l1 no eixo y:\")\n",
    "\n",
    "np.array([\n",
    "        [1, 0, 0, 0],\n",
    "        [0, 1, 0, 0],\n",
    "        [0, 0, 1, 0],\n",
    "        [0, 0, 0, 1]\n",
    "    ])"
   ]
  },
  {
   "cell_type": "code",
   "execution_count": 8,
   "id": "d3570657",
   "metadata": {},
   "outputs": [
    {
     "name": "stdout",
     "output_type": "stream",
     "text": [
      "Matriz A, elo 2, há apenas a rotação de theta no eixo Z:\n",
      "\n",
      "np.array([\n",
      "        [cos(theta1), -sen(theta1), 0, 0]\n",
      "        [sen(theta1), cos(theta1) , 0, 0]\n",
      "        [0          , 0           , 1, 0]\n",
      "        [0          , 0           , 0, 1]\n",
      "])\n",
      "\n"
     ]
    }
   ],
   "source": [
    "print(\"Matriz A, elo 2, há apenas a rotação de theta no eixo Z:\")\n",
    "\n",
    "text = \"\"\"\n",
    "np.array([\n",
    "        [cos(theta1), -sen(theta1), 0, 0]\n",
    "        [sen(theta1), cos(theta1) , 0, 0]\n",
    "        [0          , 0           , 1, 0]\n",
    "        [0          , 0           , 0, 1]\n",
    "])\n",
    "\"\"\"\n",
    "print(text)"
   ]
  },
  {
   "cell_type": "code",
   "execution_count": 9,
   "id": "174217cb",
   "metadata": {},
   "outputs": [
    {
     "name": "stdout",
     "output_type": "stream",
     "text": [
      "Matriz A, elo 3, rotação em theta3, translação l2 em Z, rotação de 45º em X.\n",
      "As matrizes serão apresentadas na vertical por falta de espaço:\n",
      "\n",
      "rotação de theta em Z\n",
      "\n",
      "        [cos(theta3), -sen(theta3), 0, 0]\n",
      "        [sen(theta3),  cos(theta3), 0, 0]\n",
      "        [0          , 0           , 1, 0]\n",
      "        [0          , 0           , 0, 1]\n",
      "\n",
      "                           .\n",
      "\n",
      "translação l2 em Z\n",
      "\n",
      "        [1, 0, 0, 0 ]\n",
      "        [0, 1, 0, 0 ]\n",
      "        [0, 0, 1, l2]\n",
      "        [0, 0, 0, 1 ]\n",
      "\n",
      "                           .\n",
      "\n",
      "rotação de 45º em X\n",
      "\n",
      "        [0, 0       , 0          , 0]\n",
      "        [0, cos(45) , -sin(45)   , 0]\n",
      "        [0, sin(45) , cos(45)    , 0]\n",
      "        [0, 0       , 0          , 1]\n",
      "\n",
      "\n",
      "\n",
      "Matriz final:\n",
      "\n",
      "        [cos(theta3), -sen(theta3)*cos(45), sen(theta3)*sen(45) , 0] \n",
      "        [sen(theta3), cos(theta3)*cos(45) , -cos(theta3)*sen(45), 0]\n",
      "        [0          , sen(45)             , cos(45)             ,l2]\n",
      "        [0          , 0                   , 0                   , 1]\n",
      "\n"
     ]
    }
   ],
   "source": [
    "print(\"Matriz A, elo 3, rotação em theta3, translação l2 em Z, rotação de 45º em X.\")\n",
    "print(\"As matrizes serão apresentadas na vertical por falta de espaço:\")\n",
    "\n",
    "text = \"\"\"\n",
    "rotação de theta em Z\n",
    "\n",
    "        [cos(theta3), -sen(theta3), 0, 0]\n",
    "        [sen(theta3),  cos(theta3), 0, 0]\n",
    "        [0          , 0           , 1, 0]\n",
    "        [0          , 0           , 0, 1]\n",
    "\n",
    "                           .\n",
    "\n",
    "translação l2 em Z\n",
    "\n",
    "        [1, 0, 0, 0 ]\n",
    "        [0, 1, 0, 0 ]\n",
    "        [0, 0, 1, l2]\n",
    "        [0, 0, 0, 1 ]\n",
    "\n",
    "                           .\n",
    "\n",
    "rotação de 45º em X\n",
    "\n",
    "        [0, 0       , 0          , 0]\n",
    "        [0, cos(45) , -sin(45)   , 0]\n",
    "        [0, sin(45) , cos(45)    , 0]\n",
    "        [0, 0       , 0          , 1]\n",
    "\n",
    "\"\"\"\n",
    "\n",
    "print(text)\n",
    "text = \"\"\"\n",
    "Matriz final:\n",
    "\n",
    "        [cos(theta3), -sen(theta3)*cos(45), sen(theta3)*sen(45) , 0] \n",
    "        [sen(theta3), cos(theta3)*cos(45) , -cos(theta3)*sen(45), 0]\n",
    "        [0          , sen(45)             , cos(45)             ,l2]\n",
    "        [0          , 0                   , 0                   , 1]\n",
    "\"\"\"\n",
    "print(text)"
   ]
  },
  {
   "cell_type": "code",
   "execution_count": 10,
   "id": "58a4d8d5",
   "metadata": {},
   "outputs": [
    {
     "name": "stdout",
     "output_type": "stream",
     "text": [
      "Matriz A, elo 4, rotação em theta4, translação l4 em Z, rotação de 45º em X:\n",
      "\n",
      "Matriz final:\n",
      "\n",
      "        [cos(theta4), -sen(theta4)*cos(45), sen(theta4)*sen(45) , 0] \n",
      "        [sen(theta4), cos(theta4)*cos(45) , -cos(theta4)*sen(45), 0]\n",
      "        [0          , sen(45)             , cos(45)             ,l4]\n",
      "        [0          , 0                   , 0                   , 1]\n",
      "\n"
     ]
    }
   ],
   "source": [
    "print(\"Matriz A, elo 4, rotação em theta4, translação l4 em Z, rotação de 45º em X:\")\n",
    "\n",
    "text = \"\"\"\n",
    "Matriz final:\n",
    "\n",
    "        [cos(theta4), -sen(theta4)*cos(45), sen(theta4)*sen(45) , 0] \n",
    "        [sen(theta4), cos(theta4)*cos(45) , -cos(theta4)*sen(45), 0]\n",
    "        [0          , sen(45)             , cos(45)             ,l4]\n",
    "        [0          , 0                   , 0                   , 1]\n",
    "\"\"\"\n",
    "print(text)"
   ]
  },
  {
   "cell_type": "code",
   "execution_count": 11,
   "id": "6ab0c1b4",
   "metadata": {},
   "outputs": [
    {
     "name": "stdout",
     "output_type": "stream",
     "text": [
      "Matriz A, elo 5, rotação em theta5, translação l5 em Z:\n",
      "\n",
      "Matriz final:\n",
      "\n",
      "        [cos(theta5), -sen(theta5), 0, 0 ]\n",
      "        [sen(theta5), cos(theta5) , 0, 0 ]\n",
      "        [0          , 0           , 1, l5]\n",
      "        [0          , 0           , 0, 1 ]\n",
      "\n"
     ]
    }
   ],
   "source": [
    "print(\"Matriz A, elo 5, rotação em theta5, translação l5 em Z:\")\n",
    "\n",
    "text = \"\"\"\n",
    "Matriz final:\n",
    "\n",
    "        [cos(theta5), -sen(theta5), 0, 0 ]\n",
    "        [sen(theta5), cos(theta5) , 0, 0 ]\n",
    "        [0          , 0           , 1, l5]\n",
    "        [0          , 0           , 0, 1 ]\n",
    "\"\"\"\n",
    "print(text)"
   ]
  },
  {
   "cell_type": "code",
   "execution_count": null,
   "id": "6734e539",
   "metadata": {},
   "outputs": [],
   "source": []
  }
 ],
 "metadata": {
  "kernelspec": {
   "display_name": "Python 3 (ipykernel)",
   "language": "python",
   "name": "python3"
  },
  "language_info": {
   "codemirror_mode": {
    "name": "ipython",
    "version": 3
   },
   "file_extension": ".py",
   "mimetype": "text/x-python",
   "name": "python",
   "nbconvert_exporter": "python",
   "pygments_lexer": "ipython3",
   "version": "3.8.13"
  }
 },
 "nbformat": 4,
 "nbformat_minor": 5
}
