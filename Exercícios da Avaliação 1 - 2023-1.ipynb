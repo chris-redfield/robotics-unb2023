{
 "cells": [
  {
   "cell_type": "code",
   "execution_count": 1,
   "id": "31f85670",
   "metadata": {},
   "outputs": [],
   "source": [
    "import numpy as np"
   ]
  },
  {
   "cell_type": "markdown",
   "id": "48a1be2f",
   "metadata": {},
   "source": [
    "### Questão 1 (peso 0,10):\n",
    "Considere a figura abaixo. Um robô é colocado a 1 metro de uma mesa cuja duas de suas pernas estão sobre o eixo y 0 , como mostrado. O topo da mesa está a 1 metro de altura da base do robô, e tem 1 metro quadrado. Um sistema de coordenadas **o1x1y1z1** é fixado na intersecção de suas arestas da mesa, como mostrado. Um cubo medindo 20cm de\n",
    "lado é colocado no centro da mesa, com um sistema de coordenadas **o2x2y2z2** estabelecido no seu centro, como mostrado. Uma câmera é posicionada a 2 metros acima do topo da mesa, com um sistema de coordenadas **o3x3y3z3** . Ache as transformações homogêneas relacionando cada um desses sistemas ao sistema da base o **0x0y0z0** . Ache a transformação homogênea relacionando o sistema **o2x2y2z2** ao sistema **o3x3y3z3**."
   ]
  },
  {
   "cell_type": "markdown",
   "id": "804ce309",
   "metadata": {},
   "source": [
    " ![image 1](img/1.jpg)"
   ]
  },
  {
   "cell_type": "markdown",
   "id": "53e146d1",
   "metadata": {},
   "source": [
    "#### Resposta\n",
    "para **0x0y0z0** e **o1x1y1z1** temos somente a translação em y e em z, portanto a matriz de transformação será R = I (identidade) * t"
   ]
  },
  {
   "cell_type": "code",
   "execution_count": 2,
   "id": "aa5a154c",
   "metadata": {},
   "outputs": [
    {
     "data": {
      "text/plain": [
       "array([[1, 0, 0, 0],\n",
       "       [0, 1, 0, 1],\n",
       "       [0, 0, 1, 1],\n",
       "       [0, 0, 0, 1]])"
      ]
     },
     "execution_count": 2,
     "metadata": {},
     "output_type": "execute_result"
    }
   ],
   "source": [
    "np.array([\n",
    "    [1,0,0,0], # translação em x = 0\n",
    "    [0,1,0,1], # translação em y = 1\n",
    "    [0,0,1,1], # translação em z = 1\n",
    "    [0,0,0,1]  # dimensão extra da matriz homogênea\n",
    "])"
   ]
  },
  {
   "cell_type": "markdown",
   "id": "8da37e15",
   "metadata": {},
   "source": [
    "para **0x0y0z0** e **o2x2y2z2**, também não temos rotação, portanto a parte de rotação da matriz seguirá sendo a identidade"
   ]
  },
  {
   "cell_type": "code",
   "execution_count": 3,
   "id": "58ca83cd",
   "metadata": {},
   "outputs": [
    {
     "data": {
      "text/plain": [
       "array([[ 1. ,  0. ,  0. , -0.5],\n",
       "       [ 0. ,  1. ,  0. ,  1.5],\n",
       "       [ 0. ,  0. ,  1. ,  1.1],\n",
       "       [ 0. ,  0. ,  0. ,  1. ]])"
      ]
     },
     "execution_count": 3,
     "metadata": {},
     "output_type": "execute_result"
    }
   ],
   "source": [
    "np.array([\n",
    "    [1,0,0,-0.5], # translação em x = -0.5m\n",
    "    [0,1,0, 1.5], # translação em y = 1 + 0.5m (distancia ate a mesa + 50cm até o centro da mesa)\n",
    "    [0,0,1, 1.1], # translação em z = 1m + 0.1m (distancia até a altura da mesa + distancia até centro do cubo, que é em 10cm a mais de altura)\n",
    "    [0,0,0, 1. ]  # dimensão extra da matriz homogênea\n",
    "])"
   ]
  },
  {
   "cell_type": "markdown",
   "id": "aeebbaf5",
   "metadata": {},
   "source": [
    "para **0x0y0z0** e **o3x3y3z3**, teremos a rotação e a translação a seguir:"
   ]
  },
  {
   "cell_type": "code",
   "execution_count": 4,
   "id": "a4889a6f",
   "metadata": {},
   "outputs": [
    {
     "data": {
      "text/plain": [
       "array([[ 0. ,  1. ,  0. , -0.5],\n",
       "       [ 1. ,  0. ,  0. ,  1.5],\n",
       "       [ 0. ,  0. , -1. ,  3. ],\n",
       "       [ 0. ,  0. ,  0. ,  1. ]])"
      ]
     },
     "execution_count": 4,
     "metadata": {},
     "output_type": "execute_result"
    }
   ],
   "source": [
    "rot_o3x3y3z3 = np.array([\n",
    "   # colunas \n",
    "   # x,y,z\n",
    "    [0,1, 0], # eixo y novo aponta para x do sistema anterior\n",
    "    [1,0, 0], # eixo x novo aponta para y do sistema anterior\n",
    "    [0,0,-1], # eixo z novo aponta para -z do sistema anterior\n",
    "    [0,0, 0]  # dimensão extra da matriz homogenea\n",
    "])\n",
    "\n",
    "trans_o3x3y3z3 = np.array([\n",
    "    [-0.5], # translação em x = -0.5m\n",
    "    [ 1.5], # translação em y = 1m + 0.5m\n",
    "    [ 3. ], # translação em z = 3m\n",
    "    [ 1. ]  # dimensão extra da matriz homogenea\n",
    "])\n",
    "\n",
    "np.concatenate((rot_o3x3y3z3, trans_o3x3y3z3), axis=1)"
   ]
  },
  {
   "cell_type": "markdown",
   "id": "2befdbfb",
   "metadata": {},
   "source": [
    "Finalmente, para a transformação homogênea relacionando o sistema **o2x2y2z2** ao sistema **o3x3y3z3**, temos a mesma rotação entre o0 e o3, pois os eixos te o0 e o2 estão alinhados."
   ]
  },
  {
   "cell_type": "code",
   "execution_count": 5,
   "id": "76cfde28",
   "metadata": {},
   "outputs": [
    {
     "data": {
      "text/plain": [
       "array([[ 0. ,  1. ,  0. ,  0. ],\n",
       "       [ 1. ,  0. ,  0. ,  0. ],\n",
       "       [ 0. ,  0. , -1. ,  1.9],\n",
       "       [ 0. ,  0. ,  0. ,  1. ]])"
      ]
     },
     "execution_count": 5,
     "metadata": {},
     "output_type": "execute_result"
    }
   ],
   "source": [
    "rot2_para_3 = np.array([\n",
    "   # colunas \n",
    "   # x,y,z\n",
    "    [0,1, 0], # eixo y novo aponta para x do sistema anterior\n",
    "    [1,0, 0], # eixo x novo aponta para y do sistema anterior\n",
    "    [0,0,-1], # eixo z novo aponta para  -z do sistema anterior\n",
    "    [0,0, 0]  # dimensão extra da matriz homogenea\n",
    "])\n",
    "\n",
    "trans2_para_3 = np.array([\n",
    "    [0. ], # translação em x = 0m\n",
    "    [0. ], # translação em y = 0m\n",
    "    [1.9], # translação em z = 1.9m, pois precisamos considerar os 10 cm da superficie da mesa até o centro do cubo\n",
    "           # por essa razão, ao invés de 2m, ficariam 2m - 10cm, 1.9m\n",
    "    [1. ]  # dimensão extra da matriz homogenea\n",
    "])\n",
    "\n",
    "np.concatenate((rot2_para_3, trans2_para_3), axis=1)"
   ]
  },
  {
   "cell_type": "code",
   "execution_count": null,
   "id": "73cfa898",
   "metadata": {},
   "outputs": [],
   "source": []
  }
 ],
 "metadata": {
  "kernelspec": {
   "display_name": "Python 3 (ipykernel)",
   "language": "python",
   "name": "python3"
  },
  "language_info": {
   "codemirror_mode": {
    "name": "ipython",
    "version": 3
   },
   "file_extension": ".py",
   "mimetype": "text/x-python",
   "name": "python",
   "nbconvert_exporter": "python",
   "pygments_lexer": "ipython3",
   "version": "3.8.13"
  }
 },
 "nbformat": 4,
 "nbformat_minor": 5
}
