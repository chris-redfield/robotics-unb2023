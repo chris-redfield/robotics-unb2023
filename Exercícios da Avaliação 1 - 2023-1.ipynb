{
 "cells": [
  {
   "cell_type": "markdown",
   "id": "649078b3",
   "metadata": {},
   "source": [
    "**Questão 1 (peso 0,10):** Considere a figura abaixo. Um robô é colocado a 1 metro de uma\n",
    "mesa cuja duas de suas pernas estão sobre o eixo y 0 , como mostrado. O topo da mesa está a 1\n",
    "metro de altura da base do robô, e tem 1 metro quadrado. Um sistema de coordenadas **o1x1y1z1**\n",
    "é fixado na intersecção de suas arestas da mesa, como mostrado. Um cubo medindo 20cm de\n",
    "lado é colocado no centro da mesa, com um sistema de coordenadas **o2x2y2z2** estabelecido no\n",
    "seu centro, como mostrado. Uma câmera é posicionada a 2 metros acima do topo da mesa,\n",
    "com um sistema de coordenadas **o3x3y3z3** . Ache as transformações homogêneas relacionando\n",
    "cada um desses sistemas ao sistema da base o **0x0y0z0** . Ache a transformação homogênea\n",
    "relacionando o sistema **o2x2y2z2** ao sistema **o3x3y3z3**."
   ]
  },
  {
   "cell_type": "markdown",
   "id": "85dd8fe9",
   "metadata": {},
   "source": [
    " ![image 1](img/1.jpg)"
   ]
  },
  {
   "cell_type": "code",
   "execution_count": null,
   "id": "20635c7e",
   "metadata": {},
   "outputs": [],
   "source": []
  }
 ],
 "metadata": {
  "kernelspec": {
   "display_name": "Python 3 (ipykernel)",
   "language": "python",
   "name": "python3"
  },
  "language_info": {
   "codemirror_mode": {
    "name": "ipython",
    "version": 3
   },
   "file_extension": ".py",
   "mimetype": "text/x-python",
   "name": "python",
   "nbconvert_exporter": "python",
   "pygments_lexer": "ipython3",
   "version": "3.8.13"
  }
 },
 "nbformat": 4,
 "nbformat_minor": 5
}
