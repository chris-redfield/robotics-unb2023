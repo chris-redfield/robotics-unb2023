{
 "cells": [
  {
   "cell_type": "code",
   "execution_count": 1,
   "id": "31f85670",
   "metadata": {},
   "outputs": [],
   "source": [
    "import numpy as np"
   ]
  },
  {
   "cell_type": "markdown",
   "id": "48a1be2f",
   "metadata": {},
   "source": [
    "### Questão 1 (peso 0,10):\n",
    "Considere a figura abaixo. Um robô é colocado a 1 metro de uma mesa cuja duas de suas pernas estão sobre o eixo y 0 , como mostrado. O topo da mesa está a 1 metro de altura da base do robô, e tem 1 metro quadrado. Um sistema de coordenadas **o1x1y1z1** é fixado na intersecção de suas arestas da mesa, como mostrado. Um cubo medindo 20cm de\n",
    "lado é colocado no centro da mesa, com um sistema de coordenadas **o2x2y2z2** estabelecido no seu centro, como mostrado. Uma câmera é posicionada a 2 metros acima do topo da mesa, com um sistema de coordenadas **o3x3y3z3** . Ache as transformações homogêneas relacionando cada um desses sistemas ao sistema da base o **0x0y0z0** . Ache a transformação homogênea relacionando o sistema **o2x2y2z2** ao sistema **o3x3y3z3**."
   ]
  },
  {
   "cell_type": "markdown",
   "id": "804ce309",
   "metadata": {},
   "source": [
    "<img src=\"img/1.jpg\" width=\"400px\">"
   ]
  },
  {
   "cell_type": "markdown",
   "id": "53e146d1",
   "metadata": {},
   "source": [
    "#### Resposta\n",
    "para **0x0y0z0** e **o1x1y1z1** temos somente a translação em y e em z, portanto a matriz de transformação será R = I (identidade) * t"
   ]
  },
  {
   "cell_type": "code",
   "execution_count": 2,
   "id": "aa5a154c",
   "metadata": {},
   "outputs": [
    {
     "data": {
      "text/plain": [
       "array([[1, 0, 0, 0],\n",
       "       [0, 1, 0, 1],\n",
       "       [0, 0, 1, 1],\n",
       "       [0, 0, 0, 1]])"
      ]
     },
     "execution_count": 2,
     "metadata": {},
     "output_type": "execute_result"
    }
   ],
   "source": [
    "np.array([\n",
    "    [1,0,0,0], # translação em x = 0\n",
    "    [0,1,0,1], # translação em y = 1\n",
    "    [0,0,1,1], # translação em z = 1\n",
    "    [0,0,0,1]  # dimensão extra da matriz homogênea\n",
    "])"
   ]
  },
  {
   "cell_type": "markdown",
   "id": "8da37e15",
   "metadata": {},
   "source": [
    "para **0x0y0z0** e **o2x2y2z2**, também não temos rotação, portanto a parte de rotação da matriz seguirá sendo a identidade"
   ]
  },
  {
   "cell_type": "code",
   "execution_count": 3,
   "id": "58ca83cd",
   "metadata": {},
   "outputs": [
    {
     "data": {
      "text/plain": [
       "array([[ 1. ,  0. ,  0. , -0.5],\n",
       "       [ 0. ,  1. ,  0. ,  1.5],\n",
       "       [ 0. ,  0. ,  1. ,  1.1],\n",
       "       [ 0. ,  0. ,  0. ,  1. ]])"
      ]
     },
     "execution_count": 3,
     "metadata": {},
     "output_type": "execute_result"
    }
   ],
   "source": [
    "np.array([\n",
    "    [1,0,0,-0.5], # translação em x = -0.5m\n",
    "    [0,1,0, 1.5], # translação em y = 1 + 0.5m (distancia ate a mesa + 50cm até o centro da mesa)\n",
    "    [0,0,1, 1.1], # translação em z = 1m + 0.1m (distancia até a altura da mesa + distancia até centro do cubo, que é em 10cm a mais de altura)\n",
    "    [0,0,0, 1. ]  # dimensão extra da matriz homogênea\n",
    "])"
   ]
  },
  {
   "cell_type": "markdown",
   "id": "aeebbaf5",
   "metadata": {},
   "source": [
    "para **0x0y0z0** e **o3x3y3z3**, teremos a rotação e a translação a seguir:"
   ]
  },
  {
   "cell_type": "code",
   "execution_count": 4,
   "id": "a4889a6f",
   "metadata": {},
   "outputs": [
    {
     "data": {
      "text/plain": [
       "array([[ 0. ,  1. ,  0. , -0.5],\n",
       "       [ 1. ,  0. ,  0. ,  1.5],\n",
       "       [ 0. ,  0. , -1. ,  3. ],\n",
       "       [ 0. ,  0. ,  0. ,  1. ]])"
      ]
     },
     "execution_count": 4,
     "metadata": {},
     "output_type": "execute_result"
    }
   ],
   "source": [
    "rot_o3x3y3z3 = np.array([\n",
    "   # colunas \n",
    "   # x,y,z\n",
    "    [0,1, 0], # eixo y novo aponta para x do sistema anterior\n",
    "    [1,0, 0], # eixo x novo aponta para y do sistema anterior\n",
    "    [0,0,-1], # eixo z novo aponta para -z do sistema anterior\n",
    "    [0,0, 0]  # dimensão extra da matriz homogenea\n",
    "])\n",
    "\n",
    "trans_o3x3y3z3 = np.array([\n",
    "    [-0.5], # translação em x = -0.5m\n",
    "    [ 1.5], # translação em y = 1m + 0.5m\n",
    "    [ 3. ], # translação em z = 3m\n",
    "    [ 1. ]  # dimensão extra da matriz homogenea\n",
    "])\n",
    "\n",
    "np.concatenate((rot_o3x3y3z3, trans_o3x3y3z3), axis=1)"
   ]
  },
  {
   "cell_type": "markdown",
   "id": "2befdbfb",
   "metadata": {},
   "source": [
    "Finalmente, para a transformação homogênea relacionando o sistema **o2x2y2z2** ao sistema **o3x3y3z3**, temos a mesma rotação entre o0 e o3, pois os eixos te o0 e o2 estão alinhados."
   ]
  },
  {
   "cell_type": "code",
   "execution_count": 5,
   "id": "76cfde28",
   "metadata": {},
   "outputs": [
    {
     "data": {
      "text/plain": [
       "array([[ 0. ,  1. ,  0. ,  0. ],\n",
       "       [ 1. ,  0. ,  0. ,  0. ],\n",
       "       [ 0. ,  0. , -1. ,  1.9],\n",
       "       [ 0. ,  0. ,  0. ,  1. ]])"
      ]
     },
     "execution_count": 5,
     "metadata": {},
     "output_type": "execute_result"
    }
   ],
   "source": [
    "rot2_para_3 = np.array([\n",
    "   # colunas \n",
    "   # x,y,z\n",
    "    [0,1, 0], # eixo y novo aponta para x do sistema anterior\n",
    "    [1,0, 0], # eixo x novo aponta para y do sistema anterior\n",
    "    [0,0,-1], # eixo z novo aponta para  -z do sistema anterior\n",
    "    [0,0, 0]  # dimensão extra da matriz homogenea\n",
    "])\n",
    "\n",
    "trans2_para_3 = np.array([\n",
    "    [0. ], # translação em x = 0m\n",
    "    [0. ], # translação em y = 0m\n",
    "    [1.9], # translação em z = 1.9m, pois precisamos considerar os 10 cm da superficie da mesa até o centro do cubo\n",
    "           # por essa razão, ao invés de 2m, ficariam 2m - 10cm, 1.9m\n",
    "    [1. ]  # dimensão extra da matriz homogenea\n",
    "])\n",
    "\n",
    "np.concatenate((rot2_para_3, trans2_para_3), axis=1)"
   ]
  },
  {
   "cell_type": "markdown",
   "id": "bfa1be87",
   "metadata": {},
   "source": [
    "### Questão 2 (peso 0,15):\n",
    "Considere o manipulador de 5 graus de liberdade mostrado em sua\n",
    "posição zero. Derive as equações da sua cinemática direta, utilizando, para tanto, a convenção\n",
    "de Denavit-Hartenberg clássica. Não é preciso escrever a matriz geral do manipulador, basta\n",
    "desenvolver as matrizes que relacionam os elos. Derive as equações que resolvem cada um\n",
    "dos ângulos de orientação em X-Y-Z da ferramenta em função das variáveis de junta, na\n",
    "expressão mais simples possível."
   ]
  },
  {
   "cell_type": "markdown",
   "id": "5c1813e0",
   "metadata": {},
   "source": [
    "<img src=\"img/2.jpg\" width=\"400px\">"
   ]
  },
  {
   "cell_type": "markdown",
   "id": "5c2bf1a9",
   "metadata": {},
   "source": [
    "**Resposta**\n",
    "\n",
    "A especificação da matriz A é feita seguindo-se a ordem de\n",
    "transformações homogêneas de translação e rotação que reposicionam\n",
    "o sistema i – 1 ao i:\n",
    "- rotação em torno do eixo Z<sub>i-1</sub> do ângulo $\\theta$<sub>i</sub> entre os elos;\n",
    "- translação ao longo do eixo Z<sub>i-1</sub> da distância d<sub>i</sub> entre os elos;\n",
    "- translação ao longo do eixo X<sub>i</sub> (eixo X<sub>i-1</sub> atual) do comprimento do elo (L<sub>i</sub> );\n",
    "- rotação em torno do eixo X<sub>i</sub> do ângulo ($\\alpha$<sub>i</sub> ).\n",
    "\n",
    "= Rot(Z, $\\theta$<sub>i</sub> ) . Trans (0, 0, d<sub>i</sub> ) . Trans(L<sub>i</sub>, 0, 0). Rot(X, $\\alpha$<sub>i</sub> )"
   ]
  },
  {
   "cell_type": "code",
   "execution_count": 6,
   "id": "9cd82cd6",
   "metadata": {},
   "outputs": [
    {
     "data": {
      "text/html": [
       "<style>\n",
       "table {float:left}\n",
       "</style>\n"
      ],
      "text/plain": [
       "<IPython.core.display.HTML object>"
      ]
     },
     "metadata": {},
     "output_type": "display_data"
    }
   ],
   "source": [
    "%%html\n",
    "<style>\n",
    "table {float:left}\n",
    "</style>"
   ]
  },
  {
   "cell_type": "markdown",
   "id": "4c4b1759",
   "metadata": {},
   "source": [
    "**Parâmetros de elos**:\n",
    "\n",
    "| Elo | rot_z  | trans_z | trans_x | rot_x |\n",
    "|-----|--------|---------|---------|-------|\n",
    "| 1   | $\\theta$<sub>1</sub>      | l2      | 0        | -90   |\n",
    "| 2   | $\\theta$<sub>3</sub> + 45 | 0       | l3       | 90    |\n",
    "| 3   | $\\theta$<sub>4</sub>      | l4      | 0        | 0     |\n",
    "| 4   | $\\theta$<sub>5</sub>      | l5      | 0        | 0     |"
   ]
  },
  {
   "cell_type": "code",
   "execution_count": 7,
   "id": "c8b76a67",
   "metadata": {},
   "outputs": [
    {
     "name": "stdout",
     "output_type": "stream",
     "text": [
      "\n",
      "translação inicial entre u e 0:\n",
      "\n",
      "        [1, 0, 0, 0 ]\n",
      "        [0, 1, 0, l1]\n",
      "        [0, 0, 1, 0 ]\n",
      "        [0, 0, 0, 1 ]\n",
      "\n"
     ]
    }
   ],
   "source": [
    "text = \"\"\"\n",
    "translação inicial entre u e 0:\n",
    "\n",
    "        [1, 0, 0, 0 ]\n",
    "        [0, 1, 0, l1]\n",
    "        [0, 0, 1, 0 ]\n",
    "        [0, 0, 0, 1 ]\n",
    "\"\"\"\n",
    "print(text)"
   ]
  },
  {
   "cell_type": "code",
   "execution_count": 8,
   "id": "88fe9360",
   "metadata": {},
   "outputs": [
    {
     "name": "stdout",
     "output_type": "stream",
     "text": [
      "Matriz A, elo 1:\n",
      "\n",
      "rotação de theta1 em Z\n",
      "\n",
      "        [cos(theta1), -sen(theta1), 0, 0]\n",
      "        [sen(theta1),  cos(theta1), 0, 0]\n",
      "        [0          , 0           , 1, 0]\n",
      "        [0          , 0           , 0, 1]\n",
      "\n",
      "translação de l2 em Z\n",
      "\n",
      "        [1, 0, 0, 0 ]\n",
      "        [0, 1, 0, 0 ]\n",
      "        [0, 0, 1, l2]\n",
      "        [0, 0, 0, 1 ]\n",
      "\n",
      "rotação de -90º em X\n",
      "\n",
      "        [1, 0       , 0          , 0]\n",
      "        [0, cos(90) , -sen(90)   , 0]\n",
      "        [0, sin(90) , cos(90)    , 0]\n",
      "        [0, 0       , 0          , 1]\n",
      "        \n",
      "Matriz final (produto das 3)\n",
      "\n",
      "        [cos(theta1), -sen(theta1)*cos(90), sen(theta1)*sen(90) , 0] \n",
      "        [sen(theta1), cos(theta1)*cos(90) , -cos(theta1)*sen(90), 0]\n",
      "        [0          , sen(-90)            , cos(-90)            ,l2]\n",
      "        [0          , 0                   , 0                   , 1]\n",
      "\n",
      "ou (substituindo senos e cossenos de 90)\n",
      "\n",
      "        [cos(theta1), 0 , sen(theta1) , 0] \n",
      "        [sen(theta1), 0 , -cos(theta1), 0]\n",
      "        [0          , 1 , 0           ,l2]\n",
      "        [0          , 0 , 0           , 1]\n",
      "\n"
     ]
    }
   ],
   "source": [
    "print(\"\"\"Matriz A, elo 1:\n",
    "\n",
    "rotação de theta1 em Z\n",
    "\n",
    "        [cos(theta1), -sen(theta1), 0, 0]\n",
    "        [sen(theta1),  cos(theta1), 0, 0]\n",
    "        [0          , 0           , 1, 0]\n",
    "        [0          , 0           , 0, 1]\n",
    "\n",
    "translação de l2 em Z\n",
    "\n",
    "        [1, 0, 0, 0 ]\n",
    "        [0, 1, 0, 0 ]\n",
    "        [0, 0, 1, l2]\n",
    "        [0, 0, 0, 1 ]\n",
    "\n",
    "rotação de -90º em X\n",
    "\n",
    "        [1, 0       , 0          , 0]\n",
    "        [0, cos(90) , -sen(90)   , 0]\n",
    "        [0, sin(90) , cos(90)    , 0]\n",
    "        [0, 0       , 0          , 1]\n",
    "        \n",
    "Matriz final (produto das 3)\n",
    "\n",
    "        [cos(theta1), -sen(theta1)*cos(90), sen(theta1)*sen(90) , 0] \n",
    "        [sen(theta1), cos(theta1)*cos(90) , -cos(theta1)*sen(90), 0]\n",
    "        [0          , sen(-90)            , cos(-90)            ,l2]\n",
    "        [0          , 0                   , 0                   , 1]\n",
    "\n",
    "ou (substituindo senos e cossenos de 90)\n",
    "\n",
    "        [cos(theta1), 0 , sen(theta1) , 0] \n",
    "        [sen(theta1), 0 , -cos(theta1), 0]\n",
    "        [0          , 1 , 0           ,l2]\n",
    "        [0          , 0 , 0           , 1]\n",
    "\"\"\")"
   ]
  },
  {
   "cell_type": "code",
   "execution_count": 9,
   "id": "a5947ebd",
   "metadata": {},
   "outputs": [
    {
     "name": "stdout",
     "output_type": "stream",
     "text": [
      "Matriz A, elo 2:\n",
      "\n",
      "rotação de theta2 + 45º em Z\n",
      "\n",
      "        [cos(theta2+45), -sen(theta2+45), 0, 0]\n",
      "        [sen(theta2+45),  cos(theta2+45), 0, 0]\n",
      "        [0             , 0              , 1, 0]\n",
      "        [0             , 0              , 0, 1]\n",
      "\n",
      "translação de l3 em X\n",
      "\n",
      "        [1, 0, 0, l3]\n",
      "        [0, 1, 0, 0 ]\n",
      "        [0, 0, 1, 0 ]\n",
      "        [0, 0, 0, 1 ]\n",
      "\n",
      "rotação de 90º em X\n",
      "\n",
      "        [1, 0       , 0          , 0]\n",
      "        [0, cos(90) , -sen(90)   , 0]\n",
      "        [0, sin(90) , cos(90)    , 0]\n",
      "        [0, 0       , 0          , 1]\n",
      "        \n",
      "Matriz A geral (produto das 3)\n",
      "\n",
      "        [cos(theta2+45), -sen(theta2+45)*cos(90), sen(theta2+45)*sen(90) , l3*cos(theta2+45)] \n",
      "        [sen(theta2+45), cos(theta2+45)*cos(90) , -cos(theta2+45)*sen(90), l3*sen(theta2+45)]\n",
      "        [0             , sen(90)                , cos(90)                , 0                ]\n",
      "        [0             , 0                      , 0                      , 1                ]\n",
      "\n",
      "ou (substituindo senos e cossenos de 90)\n",
      "\n",
      "        [cos(theta2+45), 0 , sen(theta2+45) , l3*cos(theta2+45)] \n",
      "        [sen(theta2+45), 0 , -cos(theta2+45), l3*sen(theta2+45)]\n",
      "        [0             , 1 , 0              , 0                ]\n",
      "        [0             , 0 , 0              , 1                ]\n",
      "\n",
      "\n"
     ]
    }
   ],
   "source": [
    "print(\"\"\"Matriz A, elo 2:\n",
    "\n",
    "rotação de theta2 + 45º em Z\n",
    "\n",
    "        [cos(theta2+45), -sen(theta2+45), 0, 0]\n",
    "        [sen(theta2+45),  cos(theta2+45), 0, 0]\n",
    "        [0             , 0              , 1, 0]\n",
    "        [0             , 0              , 0, 1]\n",
    "\n",
    "translação de l3 em X\n",
    "\n",
    "        [1, 0, 0, l3]\n",
    "        [0, 1, 0, 0 ]\n",
    "        [0, 0, 1, 0 ]\n",
    "        [0, 0, 0, 1 ]\n",
    "\n",
    "rotação de 90º em X\n",
    "\n",
    "        [1, 0       , 0          , 0]\n",
    "        [0, cos(90) , -sen(90)   , 0]\n",
    "        [0, sin(90) , cos(90)    , 0]\n",
    "        [0, 0       , 0          , 1]\n",
    "        \n",
    "Matriz A geral (produto das 3)\n",
    "\n",
    "        [cos(theta2+45), -sen(theta2+45)*cos(90), sen(theta2+45)*sen(90) , l3*cos(theta2+45)] \n",
    "        [sen(theta2+45), cos(theta2+45)*cos(90) , -cos(theta2+45)*sen(90), l3*sen(theta2+45)]\n",
    "        [0             , sen(90)                , cos(90)                , 0                ]\n",
    "        [0             , 0                      , 0                      , 1                ]\n",
    "\n",
    "ou (substituindo senos e cossenos de 90)\n",
    "\n",
    "        [cos(theta2+45), 0 , sen(theta2+45) , l3*cos(theta2+45)] \n",
    "        [sen(theta2+45), 0 , -cos(theta2+45), l3*sen(theta2+45)]\n",
    "        [0             , 1 , 0              , 0                ]\n",
    "        [0             , 0 , 0              , 1                ]\n",
    "\n",
    "\"\"\")"
   ]
  },
  {
   "cell_type": "code",
   "execution_count": 10,
   "id": "197663c0",
   "metadata": {},
   "outputs": [
    {
     "name": "stdout",
     "output_type": "stream",
     "text": [
      "Matriz A, elo 3:\n",
      "\n",
      "rotação de theta4 em Z\n",
      "\n",
      "        [cos(theta4), -sen(theta4), 0, 0]\n",
      "        [sen(theta4),  cos(theta4), 0, 0]\n",
      "        [0          , 0           , 1, 0]\n",
      "        [0          , 0           , 0, 1]\n",
      "\n",
      "translação de l4 em Z\n",
      "\n",
      "        [1, 0, 0, 0 ]\n",
      "        [0, 1, 0, 0 ]\n",
      "        [0, 0, 1, l4]\n",
      "        [0, 0, 0, 1 ]\n",
      "\n",
      "rotação de 0º em X\n",
      "\n",
      "        [1, 0       , 0          , 0]\n",
      "        [0, cos(0)  , -sen(0)    , 0]\n",
      "        [0, sin(0)  , cos(0)     , 0]\n",
      "        [0, 0       , 0          , 1]\n",
      "        \n",
      "Matriz A geral (produto das 3)\n",
      "\n",
      "        [cos(theta4), -sen(theta4)*cos(0), sen(theta4)*sen(0) , 0] \n",
      "        [sen(theta4), cos(theta4)*cos(0) , -cos(theta4)*sen(0), 0]\n",
      "        [0          , sen(0)             , cos(0)             ,l4]\n",
      "        [0          , 0                  , 0                  , 1]\n",
      "\n",
      "ou (substituindo senos e cossenos de 90)\n",
      "\n",
      "        [cos(theta4), -sen(theta4), 0 , 0] \n",
      "        [sen(theta4), cos(theta4) , 0 , 0]\n",
      "        [0          , 0           , 1 ,l4]\n",
      "        [0          , 0           , 0 , 1]\n",
      "\n",
      "\n"
     ]
    }
   ],
   "source": [
    "print(\"\"\"Matriz A, elo 3:\n",
    "\n",
    "rotação de theta4 em Z\n",
    "\n",
    "        [cos(theta4), -sen(theta4), 0, 0]\n",
    "        [sen(theta4),  cos(theta4), 0, 0]\n",
    "        [0          , 0           , 1, 0]\n",
    "        [0          , 0           , 0, 1]\n",
    "\n",
    "translação de l4 em Z\n",
    "\n",
    "        [1, 0, 0, 0 ]\n",
    "        [0, 1, 0, 0 ]\n",
    "        [0, 0, 1, l4]\n",
    "        [0, 0, 0, 1 ]\n",
    "\n",
    "rotação de 0º em X\n",
    "\n",
    "        [1, 0       , 0          , 0]\n",
    "        [0, cos(0)  , -sen(0)    , 0]\n",
    "        [0, sin(0)  , cos(0)     , 0]\n",
    "        [0, 0       , 0          , 1]\n",
    "        \n",
    "Matriz A geral (produto das 3)\n",
    "\n",
    "        [cos(theta4), -sen(theta4)*cos(0), sen(theta4)*sen(0) , 0] \n",
    "        [sen(theta4), cos(theta4)*cos(0) , -cos(theta4)*sen(0), 0]\n",
    "        [0          , sen(0)             , cos(0)             ,l4]\n",
    "        [0          , 0                  , 0                  , 1]\n",
    "\n",
    "ou (substituindo senos e cossenos de 90)\n",
    "\n",
    "        [cos(theta4), -sen(theta4), 0 , 0] \n",
    "        [sen(theta4), cos(theta4) , 0 , 0]\n",
    "        [0          , 0           , 1 ,l4]\n",
    "        [0          , 0           , 0 , 1]\n",
    "\n",
    "\"\"\")"
   ]
  },
  {
   "cell_type": "code",
   "execution_count": 11,
   "id": "14fb4098",
   "metadata": {},
   "outputs": [
    {
     "name": "stdout",
     "output_type": "stream",
     "text": [
      "Matriz A, elo 4:\n",
      "\n",
      "rotação de theta5 em Z\n",
      "\n",
      "        [cos(theta5), -sen(theta5), 0, 0]\n",
      "        [sen(theta5),  cos(theta5), 0, 0]\n",
      "        [0          , 0           , 1, 0]\n",
      "        [0          , 0           , 0, 1]\n",
      "\n",
      "translação de l5 em Z\n",
      "\n",
      "        [1, 0, 0, 0 ]\n",
      "        [0, 1, 0, 0 ]\n",
      "        [0, 0, 1, l5]\n",
      "        [0, 0, 0, 1 ]\n",
      "\n",
      "rotação de 0º em X\n",
      "\n",
      "        [1, 0       , 0          , 0]\n",
      "        [0, cos(0)  , -sen(0)    , 0]\n",
      "        [0, sin(0)  , cos(0)     , 0]\n",
      "        [0, 0       , 0          , 1]\n",
      "        \n",
      "Matriz A geral (produto das 3)\n",
      "\n",
      "        [cos(theta5), -sen(theta5)*cos(0), sen(theta5)*sen(0) , 0] \n",
      "        [sen(theta5), cos(theta5)*cos(0) , -cos(theta5)*sen(0), 0]\n",
      "        [0          , sen(0)             , cos(0)             ,l5]\n",
      "        [0          , 0                  , 0                  , 1]\n",
      "\n",
      "ou (substituindo senos e cossenos de 90)\n",
      "\n",
      "        [cos(theta5), -sen(theta5), 0 , 0] \n",
      "        [sen(theta5), cos(theta5) , 0 , 0]\n",
      "        [0          , 0           , 1 ,l5]\n",
      "        [0          , 0           , 0 , 1]\n",
      "\n",
      "\n"
     ]
    }
   ],
   "source": [
    "print(\"\"\"Matriz A, elo 4:\n",
    "\n",
    "rotação de theta5 em Z\n",
    "\n",
    "        [cos(theta5), -sen(theta5), 0, 0]\n",
    "        [sen(theta5),  cos(theta5), 0, 0]\n",
    "        [0          , 0           , 1, 0]\n",
    "        [0          , 0           , 0, 1]\n",
    "\n",
    "translação de l5 em Z\n",
    "\n",
    "        [1, 0, 0, 0 ]\n",
    "        [0, 1, 0, 0 ]\n",
    "        [0, 0, 1, l5]\n",
    "        [0, 0, 0, 1 ]\n",
    "\n",
    "rotação de 0º em X\n",
    "\n",
    "        [1, 0       , 0          , 0]\n",
    "        [0, cos(0)  , -sen(0)    , 0]\n",
    "        [0, sin(0)  , cos(0)     , 0]\n",
    "        [0, 0       , 0          , 1]\n",
    "        \n",
    "Matriz A geral (produto das 3)\n",
    "\n",
    "        [cos(theta5), -sen(theta5)*cos(0), sen(theta5)*sen(0) , 0] \n",
    "        [sen(theta5), cos(theta5)*cos(0) , -cos(theta5)*sen(0), 0]\n",
    "        [0          , sen(0)             , cos(0)             ,l5]\n",
    "        [0          , 0                  , 0                  , 1]\n",
    "\n",
    "ou (substituindo senos e cossenos de 90)\n",
    "\n",
    "        [cos(theta5), -sen(theta5), 0 , 0] \n",
    "        [sen(theta5), cos(theta5) , 0 , 0]\n",
    "        [0          , 0           , 1 ,l5]\n",
    "        [0          , 0           , 0 , 1]\n",
    "\n",
    "\"\"\")"
   ]
  },
  {
   "cell_type": "markdown",
   "id": "ea7e4506",
   "metadata": {},
   "source": [
    "\n",
    "\n",
    "### Questão 3 (peso 0,10):\n",
    "Resolva a cinemática inversa da posição para o manipulador mostrado\n",
    "na figura abaixo."
   ]
  },
  {
   "cell_type": "markdown",
   "id": "3bdfb849",
   "metadata": {},
   "source": [
    "<img src=\"img/3.jpg\" width=\"400px\">"
   ]
  },
  {
   "cell_type": "markdown",
   "id": "813ac62d",
   "metadata": {},
   "source": [
    "**Resposta**\n",
    "Para essa resposta vamos tentar o método geométrico.\n",
    "\n",
    "- Passo 1: obter as matrizes A e cinemática direta, usando a convenção de Denavit-Hartenberg\n",
    "- Passo 2: usar a solução geométrica do braço direito"
   ]
  },
  {
   "cell_type": "markdown",
   "id": "33201baf",
   "metadata": {},
   "source": [
    "**Parâmetros de elos**:\n",
    "\n",
    "| Elo | rot_z  | trans_z | trans_x | rot_x |\n",
    "|-----|--------|---------|---------|-------|\n",
    "| 1  | $\\theta$<sub>1</sub>     | -l3-l4  | l5+l6   | 90    |\n",
    "| 2  | $\\theta$<sub>2</sub>+180 | l7      | 0       | 0     |"
   ]
  },
  {
   "cell_type": "code",
   "execution_count": 12,
   "id": "392d6a00",
   "metadata": {},
   "outputs": [
    {
     "name": "stdout",
     "output_type": "stream",
     "text": [
      "\n",
      "translação inicial entre a origem e a base:\n",
      "\n",
      "        [1, 0, 0, l1 ]\n",
      "        [0, 1, 0, -l2]\n",
      "        [0, 0, 1, 0  ]\n",
      "        [0, 0, 0, 1  ]\n",
      "\n"
     ]
    }
   ],
   "source": [
    "text = \"\"\"\n",
    "translação inicial entre a origem e a base:\n",
    "\n",
    "        [1, 0, 0, l1 ]\n",
    "        [0, 1, 0, -l2]\n",
    "        [0, 0, 1, 0  ]\n",
    "        [0, 0, 0, 1  ]\n",
    "\"\"\"\n",
    "print(text)"
   ]
  },
  {
   "cell_type": "code",
   "execution_count": 13,
   "id": "53708438",
   "metadata": {},
   "outputs": [
    {
     "name": "stdout",
     "output_type": "stream",
     "text": [
      "Matriz A, elo 1:\n",
      "\n",
      "rotação de theta1 em Z\n",
      "\n",
      "        [cos(theta1), -sen(theta1), 0, 0]\n",
      "        [sen(theta1),  cos(theta1), 0, 0]\n",
      "        [0          , 0           , 1, 0]\n",
      "        [0          , 0           , 0, 1]\n",
      "\n",
      "translação de -l3 e -l4 em Z\n",
      "translação de +l5 e +l6 em X\n",
      "\n",
      "        [1, 0, 0, l5+l6 ]\n",
      "        [0, 1, 0, 0     ]\n",
      "        [0, 0, 1, -l3-l4]\n",
      "        [0, 0, 0, 1     ]\n",
      "\n",
      "rotação de 90º em X\n",
      "\n",
      "        [1, 0       , 0          , 0]\n",
      "        [0, cos(90) , -sen(90)   , 0]\n",
      "        [0, sin(90) , cos(90)    , 0]\n",
      "        [0, 0       , 0          , 1]\n",
      "        \n",
      "Matriz A geral (produto das 3)\n",
      "\n",
      "        [cos(theta1), -sen(theta1)*cos(90), sen(theta1)*sen(90) , (l5+l6)*cos(theta1)] \n",
      "        [sen(theta1), cos(theta1)*cos(90) , -cos(theta1)*sen(90), (l5+l6)*sen(theta1)]\n",
      "        [0          , sen(90)             , cos(90)             , -l3-l4             ]\n",
      "        [0          , 0                   , 0                   , 1                  ]\n",
      "\n",
      "ou (substituindo senos e cossenos de 90)\n",
      "\n",
      "        [cos(theta1), 0 , sen(theta1) , (l5+l6)*cos(theta1)] \n",
      "        [sen(theta1), 0 , -cos(theta1), (l5+l6)*sen(theta1)]\n",
      "        [0          , 1 , 0           , -l3-l4             ]\n",
      "        [0          , 0 , 0           , 1                  ]\n",
      "\n"
     ]
    }
   ],
   "source": [
    "print(\"\"\"Matriz A, elo 1:\n",
    "\n",
    "rotação de theta1 em Z\n",
    "\n",
    "        [cos(theta1), -sen(theta1), 0, 0]\n",
    "        [sen(theta1),  cos(theta1), 0, 0]\n",
    "        [0          , 0           , 1, 0]\n",
    "        [0          , 0           , 0, 1]\n",
    "\n",
    "translação de -l3 e -l4 em Z\n",
    "translação de +l5 e +l6 em X\n",
    "\n",
    "        [1, 0, 0, l5+l6 ]\n",
    "        [0, 1, 0, 0     ]\n",
    "        [0, 0, 1, -l3-l4]\n",
    "        [0, 0, 0, 1     ]\n",
    "\n",
    "rotação de 90º em X\n",
    "\n",
    "        [1, 0       , 0          , 0]\n",
    "        [0, cos(90) , -sen(90)   , 0]\n",
    "        [0, sin(90) , cos(90)    , 0]\n",
    "        [0, 0       , 0          , 1]\n",
    "        \n",
    "Matriz A geral (produto das 3)\n",
    "\n",
    "        [cos(theta1), -sen(theta1)*cos(90), sen(theta1)*sen(90) , (l5+l6)*cos(theta1)] \n",
    "        [sen(theta1), cos(theta1)*cos(90) , -cos(theta1)*sen(90), (l5+l6)*sen(theta1)]\n",
    "        [0          , sen(90)             , cos(90)             , -l3-l4             ]\n",
    "        [0          , 0                   , 0                   , 1                  ]\n",
    "\n",
    "ou (substituindo senos e cossenos de 90)\n",
    "\n",
    "        [cos(theta1), 0 , sen(theta1) , (l5+l6)*cos(theta1)] \n",
    "        [sen(theta1), 0 , -cos(theta1), (l5+l6)*sen(theta1)]\n",
    "        [0          , 1 , 0           , -l3-l4             ]\n",
    "        [0          , 0 , 0           , 1                  ]\n",
    "\"\"\")"
   ]
  },
  {
   "cell_type": "code",
   "execution_count": 14,
   "id": "c7be1a67",
   "metadata": {},
   "outputs": [
    {
     "name": "stdout",
     "output_type": "stream",
     "text": [
      "Matriz A, elo 2:\n",
      "\n",
      "rotação de theta2 + 180 em Z (dessa forma, o eixo X ficará apontando para cima)\n",
      "\n",
      "        [cos(theta2+180), -sen(theta2+180), 0, 0]\n",
      "        [sen(theta2+180),  cos(theta2+180), 0, 0]\n",
      "        [0              , 0               , 1, 0]\n",
      "        [0              , 0               , 0, 1]\n",
      "\n",
      "translação de l7 em Z\n",
      "\n",
      "        [1, 0, 0, 0  ]\n",
      "        [0, 1, 0, 0  ]\n",
      "        [0, 0, 1, l7 ]\n",
      "        [0, 0, 0, 1  ]\n",
      "\n",
      "rotação de 0 em X\n",
      "\n",
      "        [1, 0 , 0 , 0]\n",
      "        [0, 1 , 0 , 0]\n",
      "        [0, 0 , 1 , 0]\n",
      "        [0, 0 , 0 , 1]\n",
      "        \n",
      "Matriz A geral (produto das 3)\n",
      "\n",
      "        [cos(theta2+180), -sen(theta2+180) , sen(theta2+180)  , 0 ] \n",
      "        [sen(theta2+180), cos(theta2+180)  , -cos(theta2+180) , 0 ]\n",
      "        [0              , 0                , 1                , l7]\n",
      "        [0              , 0                , 0                , 1 ]\n",
      "\n",
      "\n"
     ]
    }
   ],
   "source": [
    "print(\"\"\"Matriz A, elo 2:\n",
    "\n",
    "rotação de theta2 + 180 em Z (dessa forma, o eixo X ficará apontando para cima)\n",
    "\n",
    "        [cos(theta2+180), -sen(theta2+180), 0, 0]\n",
    "        [sen(theta2+180),  cos(theta2+180), 0, 0]\n",
    "        [0              , 0               , 1, 0]\n",
    "        [0              , 0               , 0, 1]\n",
    "\n",
    "translação de l7 em Z\n",
    "\n",
    "        [1, 0, 0, 0  ]\n",
    "        [0, 1, 0, 0  ]\n",
    "        [0, 0, 1, l7 ]\n",
    "        [0, 0, 0, 1  ]\n",
    "\n",
    "rotação de 0 em X\n",
    "\n",
    "        [1, 0 , 0 , 0]\n",
    "        [0, 1 , 0 , 0]\n",
    "        [0, 0 , 1 , 0]\n",
    "        [0, 0 , 0 , 1]\n",
    "        \n",
    "Matriz A geral (produto das 3)\n",
    "\n",
    "        [cos(theta2+180), -sen(theta2+180) , sen(theta2+180)  , 0 ] \n",
    "        [sen(theta2+180), cos(theta2+180)  , -cos(theta2+180) , 0 ]\n",
    "        [0              , 0                , 1                , l7]\n",
    "        [0              , 0                , 0                , 1 ]\n",
    "\n",
    "\"\"\")"
   ]
  },
  {
   "cell_type": "code",
   "execution_count": 15,
   "id": "7b430b8f",
   "metadata": {},
   "outputs": [
    {
     "name": "stdout",
     "output_type": "stream",
     "text": [
      "\n",
      "\n",
      "        [Xx, Yx, Zx, px ]\n",
      "        [Xy, Yy, Zy, py ]  = \n",
      "        [Xz, Yz, Zz, pz ]\n",
      "        [0 , 0 , 0 , 1  ]\n",
      "        \n",
      "        [cos(theta1), 0 , sen(theta1) , (l5+l6)*cos(theta1)] \n",
      "        [sen(theta1), 0 , -cos(theta1), (l5+l6)*sen(theta1)]\n",
      "        [0          , 1 , 0           , -l3-l4             ]\n",
      "        [0          , 0 , 0           , 1                  ]\n",
      "        \n",
      "                                .\n",
      "                                \n",
      "        [cos(theta2+180), -sen(theta2+180) , sen(theta2+180)  , 0 ] \n",
      "        [sen(theta2+180), cos(theta2+180)  , -cos(theta2+180) , 0 ]\n",
      "        [0              , 0                , 1                , l7]\n",
      "        [0              , 0                , 0                , 1 ]\n",
      "        \n",
      "                                =\n",
      "A1.A2 = \n",
      "\n",
      "[cos(theta1).cos(theta2+180), cos(theta1).-sen(theta2+180), cos(theta1).sen(theta2+180) + sen(theta1), sen(theta1).l7 + (l5+l6)*cos(theta1) ]\n",
      "[sen(theta1).cos(theta2+180), sen(theta1).-sen(theta2+180), sen(theta1).sen(theta2+180) -cos(theta1) , -cos(theta1).l7 + (l5+l6)*sen(theta1)]\n",
      "[sen(theta2+180)            , cos(theta2+180)             , -cos(theta2+180) -l3-l4                  , -l3-l4                               ]\n",
      "[0                          , 0                           , 0                                        , 1                                    ]                  \n",
      "\n",
      "Usando método algébrico:\n",
      "\n",
      "theta1 = arctan(py/px) = arctan(0,0)... não consegui encontrar\n",
      "\n",
      "Xz = sen(theta2+180)\n",
      "Yz = cos(theta2+180)\n",
      "theta2 = arctan2(Xz,Yz)\n",
      "\n",
      "px = 0 ... não consegui encontrar\n",
      "\n",
      "\n",
      "\n"
     ]
    }
   ],
   "source": [
    "text = \"\"\"\n",
    "\n",
    "        [Xx, Yx, Zx, px ]\n",
    "        [Xy, Yy, Zy, py ]  = \n",
    "        [Xz, Yz, Zz, pz ]\n",
    "        [0 , 0 , 0 , 1  ]\n",
    "        \n",
    "        [cos(theta1), 0 , sen(theta1) , (l5+l6)*cos(theta1)] \n",
    "        [sen(theta1), 0 , -cos(theta1), (l5+l6)*sen(theta1)]\n",
    "        [0          , 1 , 0           , -l3-l4             ]\n",
    "        [0          , 0 , 0           , 1                  ]\n",
    "        \n",
    "                                .\n",
    "                                \n",
    "        [cos(theta2+180), -sen(theta2+180) , sen(theta2+180)  , 0 ] \n",
    "        [sen(theta2+180), cos(theta2+180)  , -cos(theta2+180) , 0 ]\n",
    "        [0              , 0                , 1                , l7]\n",
    "        [0              , 0                , 0                , 1 ]\n",
    "        \n",
    "                                =\n",
    "A1.A2 = \n",
    "\n",
    "[cos(theta1).cos(theta2+180), cos(theta1).-sen(theta2+180), cos(theta1).sen(theta2+180) + sen(theta1), sen(theta1).l7 + (l5+l6)*cos(theta1) ]\n",
    "[sen(theta1).cos(theta2+180), sen(theta1).-sen(theta2+180), sen(theta1).sen(theta2+180) -cos(theta1) , -cos(theta1).l7 + (l5+l6)*sen(theta1)]\n",
    "[sen(theta2+180)            , cos(theta2+180)             , -cos(theta2+180) -l3-l4                  , -l3-l4                               ]\n",
    "[0                          , 0                           , 0                                        , 1                                    ]                  \n",
    "\n",
    "Usando método algébrico:\n",
    "\n",
    "theta1 = arctan(py/px) = arctan(0,0)... não consegui encontrar\n",
    "\n",
    "Xz = sen(theta2+180)\n",
    "Yz = cos(theta2+180)\n",
    "theta2 = arctan2(Xz,Yz)\n",
    "\n",
    "px = 0 ... não consegui encontrar\n",
    "\n",
    "\n",
    "\"\"\"\n",
    "print(text)"
   ]
  },
  {
   "cell_type": "markdown",
   "id": "d921b592",
   "metadata": {},
   "source": [
    "### Questão 4 (peso 0,15):\n",
    "Resolva a cinemática inversa da posição para o manipulador\n",
    "cartesiano abaixo."
   ]
  },
  {
   "cell_type": "markdown",
   "id": "ecb90c09",
   "metadata": {},
   "source": [
    "<img src=\"img/4.jpg\" width=\"400px\">"
   ]
  },
  {
   "cell_type": "markdown",
   "id": "57ed692a",
   "metadata": {},
   "source": [
    "***Resposta***"
   ]
  },
  {
   "cell_type": "markdown",
   "id": "b9af0b4b",
   "metadata": {},
   "source": [
    "**Parâmetros de elos**:\n",
    "\n",
    "| Elo | rot_z  | trans_z | trans_x | rot_x |\n",
    "|-----|--------|---------|---------|-------|\n",
    "| 1  | $\\theta$<sub>1</sub>      | l3+l4   | 0       | 90     |\n",
    "| 2  | $\\theta$<sub>2</sub>      | 0       | l5      | -90    |\n",
    "| 3  | $\\theta$<sub>3</sub> + 180| l6+l7   | 0       | 0      |\n"
   ]
  },
  {
   "cell_type": "code",
   "execution_count": 16,
   "id": "1fbfdaf7",
   "metadata": {},
   "outputs": [
    {
     "name": "stdout",
     "output_type": "stream",
     "text": [
      "\n",
      "translação inicial entre u e 0:\n",
      "\n",
      "        [1, 0, 0, l1]\n",
      "        [0, 1, 0, l2]\n",
      "        [0, 0, 1, 0 ]\n",
      "        [0, 0, 0, 1 ]\n",
      "\n"
     ]
    }
   ],
   "source": [
    "text = \"\"\"\n",
    "translação inicial entre u e 0:\n",
    "\n",
    "        [1, 0, 0, l1]\n",
    "        [0, 1, 0, l2]\n",
    "        [0, 0, 1, 0 ]\n",
    "        [0, 0, 0, 1 ]\n",
    "\"\"\"\n",
    "print(text)"
   ]
  },
  {
   "cell_type": "code",
   "execution_count": 17,
   "id": "a8d08d56",
   "metadata": {},
   "outputs": [
    {
     "name": "stdout",
     "output_type": "stream",
     "text": [
      "Matriz A, elo 1:\n",
      "\n",
      "rotação de theta1 em Z\n",
      "\n",
      "        [cos(theta1), -sen(theta1), 0, 0]\n",
      "        [sen(theta1),  cos(theta1), 0, 0]\n",
      "        [0          , 0           , 1, 0]\n",
      "        [0          , 0           , 0, 1]\n",
      "\n",
      "translação de l3 e l4 em Z\n",
      "\n",
      "        [1, 0, 0, 0    ]\n",
      "        [0, 1, 0, 0    ]\n",
      "        [0, 0, 1, l3+l4]\n",
      "        [0, 0, 0, 1    ]\n",
      "\n",
      "rotação de 90º em X\n",
      "\n",
      "        [1, 0       , 0          , 0]\n",
      "        [0, cos(90) , -sen(90)   , 0]\n",
      "        [0, sin(90) , cos(90)    , 0]\n",
      "        [0, 0       , 0          , 1]\n",
      "        \n",
      "Matriz A geral (produto das 3)\n",
      "\n",
      "        [cos(theta1), -sen(theta1)*cos(90), sen(theta1)*sen(90) , 0     ] \n",
      "        [sen(theta1), cos(theta1)*cos(90) , -cos(theta1)*sen(90), 0     ]\n",
      "        [0          , sen(90)             , cos(90)             , l3+l4 ]\n",
      "        [0          , 0                   , 0                   , 1     ]\n",
      "\n",
      "ou (substituindo senos e cossenos de 90)\n",
      "\n",
      "        [cos(theta1), 0 , sen(theta1) , 0     ] \n",
      "        [sen(theta1), 0 , -cos(theta1), 0     ]\n",
      "        [0          , 1 , 0           , l3+l4 ]\n",
      "        [0          , 0 , 0           , 1     ]\n",
      "\n"
     ]
    }
   ],
   "source": [
    "print(\"\"\"Matriz A, elo 1:\n",
    "\n",
    "rotação de theta1 em Z\n",
    "\n",
    "        [cos(theta1), -sen(theta1), 0, 0]\n",
    "        [sen(theta1),  cos(theta1), 0, 0]\n",
    "        [0          , 0           , 1, 0]\n",
    "        [0          , 0           , 0, 1]\n",
    "\n",
    "translação de l3 e l4 em Z\n",
    "\n",
    "        [1, 0, 0, 0    ]\n",
    "        [0, 1, 0, 0    ]\n",
    "        [0, 0, 1, l3+l4]\n",
    "        [0, 0, 0, 1    ]\n",
    "\n",
    "rotação de 90º em X\n",
    "\n",
    "        [1, 0       , 0          , 0]\n",
    "        [0, cos(90) , -sen(90)   , 0]\n",
    "        [0, sin(90) , cos(90)    , 0]\n",
    "        [0, 0       , 0          , 1]\n",
    "        \n",
    "Matriz A geral (produto das 3)\n",
    "\n",
    "        [cos(theta1), -sen(theta1)*cos(90), sen(theta1)*sen(90) , 0     ] \n",
    "        [sen(theta1), cos(theta1)*cos(90) , -cos(theta1)*sen(90), 0     ]\n",
    "        [0          , sen(90)             , cos(90)             , l3+l4 ]\n",
    "        [0          , 0                   , 0                   , 1     ]\n",
    "\n",
    "ou (substituindo senos e cossenos de 90)\n",
    "\n",
    "        [cos(theta1), 0 , sen(theta1) , 0     ] \n",
    "        [sen(theta1), 0 , -cos(theta1), 0     ]\n",
    "        [0          , 1 , 0           , l3+l4 ]\n",
    "        [0          , 0 , 0           , 1     ]\n",
    "\"\"\")"
   ]
  },
  {
   "cell_type": "code",
   "execution_count": 18,
   "id": "c4489f23",
   "metadata": {},
   "outputs": [
    {
     "name": "stdout",
     "output_type": "stream",
     "text": [
      "Matriz A, elo 2:\n",
      "\n",
      "rotação de theta2 em Z\n",
      "\n",
      "        [cos(theta2), -sen(theta2), 0, 0]\n",
      "        [sen(theta2),  cos(theta2), 0, 0]\n",
      "        [0             , 0        , 1, 0]\n",
      "        [0             , 0        , 0, 1]\n",
      "\n",
      "translação de l5 em X\n",
      "\n",
      "        [1, 0, 0, l5]\n",
      "        [0, 1, 0, 0 ]\n",
      "        [0, 0, 1, 0 ]\n",
      "        [0, 0, 0, 1 ]\n",
      "\n",
      "rotação de -90º em X\n",
      "\n",
      "        [1, 0       , 0          , 0]\n",
      "        [0, cos(-90) , -sen(-90) , 0]\n",
      "        [0, sin(-90) , cos(-90)  , 0]\n",
      "        [0, 0       , 0          , 1]\n",
      "        \n",
      "Matriz A geral (produto das 3)\n",
      "\n",
      "        [cos(theta2), 0 , -sen(theta2) , l5*cos(theta2)] \n",
      "        [sen(theta2), 0 , cos(theta2)  , l5*sen(theta2)]\n",
      "        [0          , -1, 0            , 0             ]\n",
      "        [0          , 0 , 0            , 1             ]\n",
      "\n",
      "\n"
     ]
    }
   ],
   "source": [
    "print(\"\"\"Matriz A, elo 2:\n",
    "\n",
    "rotação de theta2 em Z\n",
    "\n",
    "        [cos(theta2), -sen(theta2), 0, 0]\n",
    "        [sen(theta2),  cos(theta2), 0, 0]\n",
    "        [0             , 0        , 1, 0]\n",
    "        [0             , 0        , 0, 1]\n",
    "\n",
    "translação de l5 em X\n",
    "\n",
    "        [1, 0, 0, l5]\n",
    "        [0, 1, 0, 0 ]\n",
    "        [0, 0, 1, 0 ]\n",
    "        [0, 0, 0, 1 ]\n",
    "\n",
    "rotação de -90º em X\n",
    "\n",
    "        [1, 0       , 0          , 0]\n",
    "        [0, cos(-90) , -sen(-90) , 0]\n",
    "        [0, sin(-90) , cos(-90)  , 0]\n",
    "        [0, 0       , 0          , 1]\n",
    "        \n",
    "Matriz A geral (produto das 3)\n",
    "\n",
    "        [cos(theta2), 0 , -sen(theta2) , l5*cos(theta2)] \n",
    "        [sen(theta2), 0 , cos(theta2)  , l5*sen(theta2)]\n",
    "        [0          , -1, 0            , 0             ]\n",
    "        [0          , 0 , 0            , 1             ]\n",
    "\n",
    "\"\"\")"
   ]
  },
  {
   "cell_type": "code",
   "execution_count": 19,
   "id": "7711193b",
   "metadata": {},
   "outputs": [
    {
     "name": "stdout",
     "output_type": "stream",
     "text": [
      "Matriz A, elo 3:\n",
      "\n",
      "rotação de theta1 em Z\n",
      "\n",
      "        [cos(theta3+180), -sen(theta+180), 0, 0]\n",
      "        [sen(theta3+180), cos(theta3+180), 0, 0]\n",
      "        [0              , 0              , 1, 0]\n",
      "        [0              , 0              , 0, 1]\n",
      "\n",
      "translação de l6 e l7 em Z\n",
      "\n",
      "        [1, 0, 0, 0    ]\n",
      "        [0, 1, 0, 0    ]\n",
      "        [0, 0, 1, l6+l7]\n",
      "        [0, 0, 0, 1    ]\n",
      "\n",
      "rotação de 0º em X\n",
      "\n",
      "        [1, 0 , 0 , 0]\n",
      "        [0, 1 , 0 , 0]\n",
      "        [0, 0 , 1 , 0]\n",
      "        [0, 0 , 0 , 1]\n",
      "        \n",
      "Matriz A geral (produto das 3. valores invertem de sinal em razão dos 180 graus de giro)\n",
      "\n",
      "        [-cos(theta3+180), sen(theta3+180)  , 0 , 0     ] \n",
      "        [-sen(theta3+180), -cos(theta3+180) , 0 , 0     ]\n",
      "        [0               , 0                , 1 , l6+l7 ]\n",
      "        [0               , 0                , 0 , 1     ]\n",
      "\n",
      "\n"
     ]
    }
   ],
   "source": [
    "print(\"\"\"Matriz A, elo 3:\n",
    "\n",
    "rotação de theta1 em Z\n",
    "\n",
    "        [cos(theta3+180), -sen(theta+180), 0, 0]\n",
    "        [sen(theta3+180), cos(theta3+180), 0, 0]\n",
    "        [0              , 0              , 1, 0]\n",
    "        [0              , 0              , 0, 1]\n",
    "\n",
    "translação de l6 e l7 em Z\n",
    "\n",
    "        [1, 0, 0, 0    ]\n",
    "        [0, 1, 0, 0    ]\n",
    "        [0, 0, 1, l6+l7]\n",
    "        [0, 0, 0, 1    ]\n",
    "\n",
    "rotação de 0º em X\n",
    "\n",
    "        [1, 0 , 0 , 0]\n",
    "        [0, 1 , 0 , 0]\n",
    "        [0, 0 , 1 , 0]\n",
    "        [0, 0 , 0 , 1]\n",
    "        \n",
    "Matriz A geral (produto das 3. valores invertem de sinal em razão dos 180 graus de giro)\n",
    "\n",
    "        [-cos(theta3+180), sen(theta3+180)  , 0 , 0     ] \n",
    "        [-sen(theta3+180), -cos(theta3+180) , 0 , 0     ]\n",
    "        [0               , 0                , 1 , l6+l7 ]\n",
    "        [0               , 0                , 0 , 1     ]\n",
    "\n",
    "\"\"\")"
   ]
  },
  {
   "cell_type": "markdown",
   "id": "83c2dd99",
   "metadata": {},
   "source": [
    "Matriz do manipulador = \n",
    "<sup>R</sup>T<sub>H</sub> = A<sub>1</sub>.A<sub>2</sub>.A<sub>3</sub>\n",
    "\n",
    "A<sub>1</sub><sup>-1</sup>.<sup>R</sup>T<sub>H</sub> = A<sub>2</sub>.A<sub>3</sub>\n",
    "\n",
    "A<sub>1</sub><sup>-1</sup> = A<sub>1</sub><sup>T</sup>"
   ]
  },
  {
   "cell_type": "code",
   "execution_count": 20,
   "id": "cc9b90b7",
   "metadata": {},
   "outputs": [
    {
     "name": "stdout",
     "output_type": "stream",
     "text": [
      "\n",
      "    [cos(theta1), sen(theta1) , 0 , 0     ] \n",
      "    [0          , 0           , 1 , -l3-l4]\n",
      "    [sen(theta1), -cos(theta1), 0 , 0     ]\n",
      "    [0          , 0           , 0 , 1     ]\n",
      "    \n",
      "                    .\n",
      "    \n",
      "    [Xx, Yx, Zx, px ]\n",
      "    [Xy, Yy, Zy, py ]\n",
      "    [Xz, Yz, Zz, pz ]\n",
      "    [0 , 0 , 0 , 1  ]\n",
      "    \n",
      "                    =\n",
      "\n",
      "    [cos(theta2), 0 , -sen(theta2) , l5*cos(theta2)] \n",
      "    [sen(theta2), 0 , cos(theta2)  , l5*sen(theta2)]\n",
      "    [0          , -1, 0            , 0             ]\n",
      "    [0          , 0 , 0            , 1             ]\n",
      "    \n",
      "                    .\n",
      "                    \n",
      "    [-cos(theta3+180), sen(theta3+180)  , 0 , 0     ] \n",
      "    [-sen(theta3+180), -cos(theta3+180) , 0 , 0     ]\n",
      "    [0               , 0                , 1 , l6+l7 ]\n",
      "    [0               , 0                , 0 , 1     ]\n",
      "\n",
      "\n"
     ]
    }
   ],
   "source": [
    "text = \"\"\"\n",
    "    [cos(theta1), sen(theta1) , 0 , 0     ] \n",
    "    [0          , 0           , 1 , -l3-l4]\n",
    "    [sen(theta1), -cos(theta1), 0 , 0     ]\n",
    "    [0          , 0           , 0 , 1     ]\n",
    "    \n",
    "                    .\n",
    "    \n",
    "    [Xx, Yx, Zx, px ]\n",
    "    [Xy, Yy, Zy, py ]\n",
    "    [Xz, Yz, Zz, pz ]\n",
    "    [0 , 0 , 0 , 1  ]\n",
    "    \n",
    "                    =\n",
    "\n",
    "    [cos(theta2), 0 , -sen(theta2) , l5*cos(theta2)] \n",
    "    [sen(theta2), 0 , cos(theta2)  , l5*sen(theta2)]\n",
    "    [0          , -1, 0            , 0             ]\n",
    "    [0          , 0 , 0            , 1             ]\n",
    "    \n",
    "                    .\n",
    "                    \n",
    "    [-cos(theta3+180), sen(theta3+180)  , 0 , 0     ] \n",
    "    [-sen(theta3+180), -cos(theta3+180) , 0 , 0     ]\n",
    "    [0               , 0                , 1 , l6+l7 ]\n",
    "    [0               , 0                , 0 , 1     ]\n",
    "\n",
    "\"\"\"\n",
    "print(text)"
   ]
  },
  {
   "cell_type": "code",
   "execution_count": 6,
   "id": "5ef2073c",
   "metadata": {},
   "outputs": [
    {
     "name": "stdout",
     "output_type": "stream",
     "text": [
      "\n",
      "[cos(theta1).Xx + sen(theta1).Xy, cos(theta1).Yx + sen(theta1).Yy, cos(theta1).Zx + sen(theta1).Zy, cos(theta1).px + sen(theta1).py]\n",
      "[Xz                             , Yz                             , Zz                             , pz - l3 -l4                    ]\n",
      "[sen(theta1).Xx - cos(theta1).Xy, sen(theta1).Yx - cos(theta1).Yy, sen(theta1).Zx - cos(theta1).Zy, sen(theta1).px - cos(theta1).py]\n",
      "[ 0                             , 0                              , 0                              , 1                              ]\n",
      "\n",
      "                                                =\n",
      "                                                \n",
      "(por favor assumir que theta3 = theta3+180 caso contrário a matriz ficará muito grande)                                       \n",
      "[cos(theta2).-cos(theta3), cos(theta2).sen(theta3), -sen(theta2), -sen(theta2).(l6+l7) + l5*cos(theta2)]\n",
      "[sen(theta2).-cos(theta3), sen(theta2).sen(theta3), cos(theta2) ,  cos(theta2).(l6+l7) + l5*sen(theta2)]\n",
      "[sen(theta3)             , cos(theta3)            , 0           ,  0                                   ]\n",
      "[0                       , 0                      , 0           ,  1                                   ]\n",
      "\n",
      "\n",
      "\n"
     ]
    }
   ],
   "source": [
    "text =\"\"\"\n",
    "[cos(theta1).Xx + sen(theta1).Xy, cos(theta1).Yx + sen(theta1).Yy, cos(theta1).Zx + sen(theta1).Zy, cos(theta1).px + sen(theta1).py]\n",
    "[Xz                             , Yz                             , Zz                             , pz - l3 -l4                    ]\n",
    "[sen(theta1).Xx - cos(theta1).Xy, sen(theta1).Yx - cos(theta1).Yy, sen(theta1).Zx - cos(theta1).Zy, sen(theta1).px - cos(theta1).py]\n",
    "[ 0                             , 0                              , 0                              , 1                              ]\n",
    "\n",
    "                                                =\n",
    "                                                \n",
    "(por favor assumir que theta3 = theta3+180 caso contrário a matriz ficará muito grande)                                       \n",
    "[cos(theta2).-cos(theta3), cos(theta2).sen(theta3), -sen(theta2), -sen(theta2).(l6+l7) + l5*cos(theta2)]\n",
    "[sen(theta2).-cos(theta3), sen(theta2).sen(theta3), cos(theta2) ,  cos(theta2).(l6+l7) + l5*sen(theta2)]\n",
    "[sen(theta3)             , cos(theta3)            , 0           ,  0                                   ]\n",
    "[0                       , 0                      , 0           ,  1                                   ]\n",
    "\n",
    "\n",
    "\"\"\"\n",
    "print(text)"
   ]
  },
  {
   "cell_type": "code",
   "execution_count": 8,
   "id": "62c03ca2",
   "metadata": {},
   "outputs": [
    {
     "name": "stdout",
     "output_type": "stream",
     "text": [
      "\n",
      "\n",
      "igualando as 2 matrizes temos que:\n",
      "\n",
      "sen(theta1).Zx - cos(theta1).Zy = 0 (linha 3, coluna 3)\n",
      "\n",
      "theta1 = cotan(Zy/Zx)\n",
      "\n",
      "\n",
      "sen(theta2) = -(cos(theta1).Zx + sen(theta1).Zy) (linha 1, coluna 3)\n",
      "cos(theta2) = Zz (linha 2, coluna 3)\n",
      "\n",
      "theta2 = arctan2(-cos(theta1).Zx - sen(theta1).Zy, Zz)\n",
      "\n",
      "\n",
      "sen(theta3) = sen(theta1).Xx - cos(theta1).Xy (linha 3, coluna 1)\n",
      "cos(theta3) = sen(theta1).Yx - cos(theta1).Yy (linha 3, coluna 2)\n",
      "\n",
      "theta3 = arctan2(sen(theta1).Xx - cos(theta1).Xy, sen(theta1).Yx - cos(theta1).Yy)\n",
      "\n",
      "\n"
     ]
    }
   ],
   "source": [
    "print(\"\"\"\n",
    "\n",
    "igualando as 2 matrizes temos que:\n",
    "\n",
    "sen(theta1).Zx - cos(theta1).Zy = 0 (linha 3, coluna 3)\n",
    "\n",
    "theta1 = cotan(Zy/Zx)\n",
    "\n",
    "\n",
    "sen(theta2) = -(cos(theta1).Zx + sen(theta1).Zy) (linha 1, coluna 3)\n",
    "cos(theta2) = Zz (linha 2, coluna 3)\n",
    "\n",
    "theta2 = arctan2(-cos(theta1).Zx - sen(theta1).Zy, Zz)\n",
    "\n",
    "\n",
    "sen(theta3) = sen(theta1).Xx - cos(theta1).Xy (linha 3, coluna 1)\n",
    "cos(theta3) = sen(theta1).Yx - cos(theta1).Yy (linha 3, coluna 2)\n",
    "\n",
    "theta3 = arctan2(sen(theta1).Xx - cos(theta1).Xy, sen(theta1).Yx - cos(theta1).Yy)\n",
    "\n",
    "\"\"\")"
   ]
  },
  {
   "cell_type": "markdown",
   "id": "7b0a6b79",
   "metadata": {},
   "source": [
    "### Questão 5 (peso 0,10):\n",
    "Resolva a cinemática inversa da posição para o manipulador cartesiano abaixo."
   ]
  },
  {
   "cell_type": "markdown",
   "id": "2a3b9713",
   "metadata": {},
   "source": [
    "<img src=\"img/5_anotado.jpg\" width=\"400px\">"
   ]
  },
  {
   "cell_type": "markdown",
   "id": "90b4346a",
   "metadata": {},
   "source": [
    "Considerando que nessa questão não há mudança de orientação do sistemas de coordenadas, temos que:\n",
    "\n",
    "**Parâmetros de elos**:\n",
    "\n",
    "| Elo | rot_z  | trans_z | trans_x | rot_x |\n",
    "|-----|--------|---------|---------|-------|\n",
    "| 1   | 0      | d1      | 0       | 0     |\n",
    "| 2   | 0      | 0       | 0       | 0     | \n",
    "| 3   | 0      | 0       | d3      | 0     |\n",
    "\n",
    "** no elo 2 há uma translação de d2 em y, mas os parametros de denavich hartenberg não capturam isso "
   ]
  },
  {
   "cell_type": "code",
   "execution_count": 1,
   "id": "e9f4d190",
   "metadata": {},
   "outputs": [
    {
     "name": "stdout",
     "output_type": "stream",
     "text": [
      "Matriz A, elo 1:\n",
      "\n",
      "rotação de 0 em Z\n",
      "\n",
      "        [1, 0, 0, 0]\n",
      "        [0, 1, 0, 0]\n",
      "        [0, 0, 1, 0]\n",
      "        [0, 0, 0, 1]\n",
      "\n",
      "translação de d1 em Z\n",
      "\n",
      "        [1, 0, 0, 0 ]\n",
      "        [0, 1, 0, 0 ]\n",
      "        [0, 0, 1, d1]\n",
      "        [0, 0, 0, 1 ]\n",
      "\n",
      "rotação de 0º em X\n",
      "\n",
      "        [1, 0 , 0 , 0]\n",
      "        [0, 1 , 0 , 0]\n",
      "        [0, 0 , 1 , 0]\n",
      "        [0, 0 , 0 , 1]\n",
      "        \n",
      "Matriz final (produto das 3)\n",
      "\n",
      "        [1, 0, 0, 0 ]\n",
      "        [0, 1, 0, 0 ]\n",
      "        [0, 0, 1, d1]\n",
      "        [0, 0, 0, 1 ]\n",
      "\n",
      "\n"
     ]
    }
   ],
   "source": [
    "print(\"\"\"Matriz A, elo 1:\n",
    "\n",
    "rotação de 0 em Z\n",
    "\n",
    "        [1, 0, 0, 0]\n",
    "        [0, 1, 0, 0]\n",
    "        [0, 0, 1, 0]\n",
    "        [0, 0, 0, 1]\n",
    "\n",
    "translação de d1 em Z\n",
    "\n",
    "        [1, 0, 0, 0 ]\n",
    "        [0, 1, 0, 0 ]\n",
    "        [0, 0, 1, d1]\n",
    "        [0, 0, 0, 1 ]\n",
    "\n",
    "rotação de 0º em X\n",
    "\n",
    "        [1, 0 , 0 , 0]\n",
    "        [0, 1 , 0 , 0]\n",
    "        [0, 0 , 1 , 0]\n",
    "        [0, 0 , 0 , 1]\n",
    "        \n",
    "Matriz final (produto das 3)\n",
    "\n",
    "        [1, 0, 0, 0 ]\n",
    "        [0, 1, 0, 0 ]\n",
    "        [0, 0, 1, d1]\n",
    "        [0, 0, 0, 1 ]\n",
    "\n",
    "\"\"\")"
   ]
  },
  {
   "cell_type": "code",
   "execution_count": 2,
   "id": "1cd1f1f4",
   "metadata": {},
   "outputs": [
    {
     "name": "stdout",
     "output_type": "stream",
     "text": [
      "Matriz A, elo 2:\n",
      "\n",
      "rotação de 0 em Z\n",
      "\n",
      "        [1, 0, 0, 0]\n",
      "        [0, 1, 0, 0]\n",
      "        [0, 0, 1, 0]\n",
      "        [0, 0, 0, 1]\n",
      "\n",
      "translação de d2 em Y\n",
      "\n",
      "        [1, 0, 0, 0 ]\n",
      "        [0, 1, 0, d2]\n",
      "        [0, 0, 1, 0 ]\n",
      "        [0, 0, 0, 1 ]\n",
      "\n",
      "rotação de 0º em X\n",
      "\n",
      "        [1, 0, 0, 0]\n",
      "        [0, 1, 0, 0]\n",
      "        [0, 0, 1, 0]\n",
      "        [0, 0, 0, 1]\n",
      "        \n",
      "Matriz final (produto das 3)\n",
      "\n",
      "        [1, 0, 0, 0 ]\n",
      "        [0, 1, 0, d2]\n",
      "        [0, 0, 1, 0 ]\n",
      "        [0, 0, 0, 1 ]\n",
      "\n",
      "\n"
     ]
    }
   ],
   "source": [
    "print(\"\"\"Matriz A, elo 2:\n",
    "\n",
    "rotação de 0 em Z\n",
    "\n",
    "        [1, 0, 0, 0]\n",
    "        [0, 1, 0, 0]\n",
    "        [0, 0, 1, 0]\n",
    "        [0, 0, 0, 1]\n",
    "\n",
    "translação de d2 em Y\n",
    "\n",
    "        [1, 0, 0, 0 ]\n",
    "        [0, 1, 0, d2]\n",
    "        [0, 0, 1, 0 ]\n",
    "        [0, 0, 0, 1 ]\n",
    "\n",
    "rotação de 0º em X\n",
    "\n",
    "        [1, 0, 0, 0]\n",
    "        [0, 1, 0, 0]\n",
    "        [0, 0, 1, 0]\n",
    "        [0, 0, 0, 1]\n",
    "        \n",
    "Matriz final (produto das 3)\n",
    "\n",
    "        [1, 0, 0, 0 ]\n",
    "        [0, 1, 0, d2]\n",
    "        [0, 0, 1, 0 ]\n",
    "        [0, 0, 0, 1 ]\n",
    "\n",
    "\"\"\")"
   ]
  },
  {
   "cell_type": "code",
   "execution_count": 3,
   "id": "8e8e22e5",
   "metadata": {},
   "outputs": [
    {
     "name": "stdout",
     "output_type": "stream",
     "text": [
      "Matriz A, elo 3:\n",
      "\n",
      "rotação de 0 em Z\n",
      "\n",
      "        [1, 0, 0, 0]\n",
      "        [0, 1, 0, 0]\n",
      "        [0, 0, 1, 0]\n",
      "        [0, 0, 0, 1]\n",
      "\n",
      "translação de d3 em X\n",
      "\n",
      "        [1, 0, 0, d3]\n",
      "        [0, 1, 0, 0 ]\n",
      "        [0, 0, 1, 0 ]\n",
      "        [0, 0, 0, 1 ]\n",
      "\n",
      "rotação de 0 em X\n",
      "\n",
      "        [1, 0, 0, 0]\n",
      "        [0, 1, 0, 0]\n",
      "        [0, 0, 1, 0]\n",
      "        [0, 0, 0, 1]\n",
      "        \n",
      "Matriz final (produto das 3)\n",
      "\n",
      "        [1, 0, 0, d3]\n",
      "        [0, 1, 0, 0 ]\n",
      "        [0, 0, 1, 0 ]\n",
      "        [0, 0, 0, 1 ]\n",
      "\n",
      "\n"
     ]
    }
   ],
   "source": [
    "print(\"\"\"Matriz A, elo 3:\n",
    "\n",
    "rotação de 0 em Z\n",
    "\n",
    "        [1, 0, 0, 0]\n",
    "        [0, 1, 0, 0]\n",
    "        [0, 0, 1, 0]\n",
    "        [0, 0, 0, 1]\n",
    "\n",
    "translação de d3 em X\n",
    "\n",
    "        [1, 0, 0, d3]\n",
    "        [0, 1, 0, 0 ]\n",
    "        [0, 0, 1, 0 ]\n",
    "        [0, 0, 0, 1 ]\n",
    "\n",
    "rotação de 0 em X\n",
    "\n",
    "        [1, 0, 0, 0]\n",
    "        [0, 1, 0, 0]\n",
    "        [0, 0, 1, 0]\n",
    "        [0, 0, 0, 1]\n",
    "        \n",
    "Matriz final (produto das 3)\n",
    "\n",
    "        [1, 0, 0, d3]\n",
    "        [0, 1, 0, 0 ]\n",
    "        [0, 0, 1, 0 ]\n",
    "        [0, 0, 0, 1 ]\n",
    "\n",
    "\"\"\")"
   ]
  },
  {
   "cell_type": "markdown",
   "id": "db846661",
   "metadata": {},
   "source": [
    "Matriz do manipulador = \n",
    "<sup>R</sup>T<sub>H</sub> = A<sub>1</sub>.A<sub>2</sub>.A<sub>3</sub>\n",
    "\n",
    "A<sub>1</sub><sup>-1</sup>.<sup>R</sup>T<sub>H</sub> = A<sub>2</sub>.A<sub>3</sub>\n",
    "\n",
    "A<sub>1</sub><sup>-1</sup> = A<sub>1</sub><sup>T</sup>"
   ]
  },
  {
   "cell_type": "code",
   "execution_count": 5,
   "id": "9d73e5ad",
   "metadata": {},
   "outputs": [
    {
     "name": "stdout",
     "output_type": "stream",
     "text": [
      "\n",
      "               .\n",
      "RTH:\n",
      "        [Xx, Yx, Zx, px ]\n",
      "        [Xy, Yy, Zy, py ]\n",
      "        [Xz, Yz, Zz, pz ]\n",
      "        [0 , 0 , 0 , 1  ]\n",
      "        \n",
      "                =\n",
      "\n",
      "        [1, 0, 0, d3]\n",
      "        [0, 1, 0, d2]\n",
      "        [0, 0, 1, d1]\n",
      "        [0, 0, 0, 1 ]\n",
      "                \n",
      "                \n",
      "\n"
     ]
    }
   ],
   "source": [
    "text = \"\"\"\n",
    "               .\n",
    "RTH:\n",
    "        [Xx, Yx, Zx, px ]\n",
    "        [Xy, Yy, Zy, py ]\n",
    "        [Xz, Yz, Zz, pz ]\n",
    "        [0 , 0 , 0 , 1  ]\n",
    "        \n",
    "                =\n",
    "\n",
    "        [1, 0, 0, d3]\n",
    "        [0, 1, 0, d2]\n",
    "        [0, 0, 1, d1]\n",
    "        [0, 0, 0, 1 ]\n",
    "                \n",
    "                \n",
    "\"\"\"\n",
    "print(text)"
   ]
  },
  {
   "cell_type": "markdown",
   "id": "144b8998",
   "metadata": {},
   "source": [
    "Dessa forma, a cinemática inversa torna-se simples:\n",
    "\n",
    "para um ponto desejado, desloca-se as juntas prismaticas na mesma proporção, por exemplo,\n",
    "\n",
    "para x1,y1,z1=1,2,3 basta deslocar d3,d2,d1=1,2,3 !"
   ]
  },
  {
   "cell_type": "markdown",
   "id": "db1c1cd4",
   "metadata": {},
   "source": [
    "### Questão 6 (peso 0,20):\n",
    "\n",
    "Está mostrada abaixo a construção de um robô que tem duas juntas\n",
    "rotativas e uma prismática. Observe que a junta prismática tem um desvio de l<sub>1</sub> a partir da primeira junta até a origem O. A distância entre A e O, l<sub>1</sub>, é constante e o ângulo entre AO e AB é de 90 graus, também constante.\n",
    "\n",
    "A junta 2 é prismática e tem um deslocamento d, variável. Usando os parâmetros geométricos e os deslocamentos de juntas mostrados na figura, responda as seguintes questões:\n",
    "\n",
    "* a) Obtenha as equações cinemáticas relacionando a posição e orientação do elemento terminal em função dos deslocamentos das juntas;\n",
    "* b) A junta 1 pode girar 45 graus e 135 graus, e a junta 3 pode girar de -90 graus a +90 graus, enquanto a junta 2 pode se mover de l<sub>1</sub> a 2l<sub>1</sub>. Esboce o espaço de trabalho do elemento terminal E dentro do plano XY.\n",
    "* c) Resolva o problema da cinemática inversa e ache os deslocamentos de juntas que\n",
    "levem o elemento terminal à posição e orientação desejadas: xe, ye, φe."
   ]
  },
  {
   "cell_type": "markdown",
   "id": "07399701",
   "metadata": {},
   "source": [
    "<img src=\"img/6.jpg\" width=\"500px\">"
   ]
  },
  {
   "cell_type": "code",
   "execution_count": null,
   "id": "7e1a877f",
   "metadata": {},
   "outputs": [],
   "source": []
  },
  {
   "cell_type": "markdown",
   "id": "d8ca92df",
   "metadata": {},
   "source": [
    "### Questão 7 (peso 0,15):\n",
    "Uma caixa foi girada de 30° em torno de um eixo colinear ao eixo 2. $\\hat{i}$ + $\\hat{j}$ + $\\hat{𝒌}$. Depois foi girada de 68° em torno de um outro eixo colinear a $\\hat{i}$ + 3. $\\hat{j}$ − 2. $\\hat{𝒌}$.\n",
    "\n",
    "Ambos os eixos de rotação estão representados no sistema fixo de coordenadas. Você deseja retornar a caixa à sua posição e orientação original fazendo a caixa girar em torno de um único eixo. Determine qual a orientação deste eixo e de qual ângulo em torno dele a caixa deveria girar.\n",
    "\n",
    "Obs.: Os valores positivos dos ângulos têm um significado. Use teoria de quaternions para\n",
    "resolver o problema."
   ]
  },
  {
   "cell_type": "markdown",
   "id": "82ee7c9f",
   "metadata": {},
   "source": [
    "**Resposta**:\n"
   ]
  },
  {
   "cell_type": "code",
   "execution_count": 27,
   "id": "af0c7a2b",
   "metadata": {},
   "outputs": [],
   "source": [
    "eixo_1 = np.array([0,2,1,1])\n",
    "theta1 = np.radians(30)\n",
    "\n",
    "eixo_2 = np.array([0,1,3,-2])\n",
    "theta2 = np.radians(68)"
   ]
  },
  {
   "cell_type": "markdown",
   "id": "e69ad646",
   "metadata": {},
   "source": [
    "Aplicamos os giros aos eixos da questão:"
   ]
  },
  {
   "cell_type": "code",
   "execution_count": 28,
   "id": "7cd232d8",
   "metadata": {},
   "outputs": [],
   "source": [
    "norm_1 = np.sqrt(np.sum(eixo_1*eixo_1))\n",
    "norm_2 = np.sqrt(np.sum(eixo_2*eixo_2))\n",
    "\n",
    "eixo_1_normalizado = eixo_1/norm_1\n",
    "eixo_2_normalizado = eixo_2/norm_2\n",
    "\n",
    "#ordem errada?\n",
    "#eixo_1_girado = (np.cos(angulo_1/2) + np.sin(angulo_1/2)) * eixo_1_normalizado\n",
    "#eixo_2_girado = (np.cos(angulo_1/2) + np.sin(angulo_1/2)) * eixo_2_normalizado\n",
    "\n",
    "## gato para adicionar np.cos(theta/2) na posição 0 do vetor\n",
    "eixo_1_girado = np.array([np.cos(theta1/2),0,0,0]) + (np.sin(theta1/2) * eixo_1_normalizado)\n",
    "eixo_2_girado = np.array([np.cos(theta2/2),0,0,0]) + (np.sin(theta2/2) * eixo_2_normalizado)"
   ]
  },
  {
   "cell_type": "code",
   "execution_count": 29,
   "id": "6d87a5ae",
   "metadata": {},
   "outputs": [
    {
     "data": {
      "text/plain": [
       "0.9659258262890683"
      ]
     },
     "execution_count": 29,
     "metadata": {},
     "output_type": "execute_result"
    }
   ],
   "source": [
    "np.cos(theta1/2)"
   ]
  },
  {
   "cell_type": "markdown",
   "id": "49822aa7",
   "metadata": {},
   "source": [
    "Eixo 1 girado:"
   ]
  },
  {
   "cell_type": "code",
   "execution_count": 30,
   "id": "a52a2c4d",
   "metadata": {},
   "outputs": [
    {
     "data": {
      "text/plain": [
       "array([0.96592583, 0.21132487, 0.10566243, 0.10566243])"
      ]
     },
     "execution_count": 30,
     "metadata": {},
     "output_type": "execute_result"
    }
   ],
   "source": [
    "eixo_1_girado"
   ]
  },
  {
   "cell_type": "markdown",
   "id": "f848482b",
   "metadata": {},
   "source": [
    "Eixo 2 girado:"
   ]
  },
  {
   "cell_type": "code",
   "execution_count": 31,
   "id": "8d2e2da5",
   "metadata": {},
   "outputs": [
    {
     "data": {
      "text/plain": [
       "array([ 0.82903757,  0.14945059,  0.44835177, -0.29890118])"
      ]
     },
     "execution_count": 31,
     "metadata": {},
     "output_type": "execute_result"
    }
   ],
   "source": [
    "eixo_2_girado"
   ]
  },
  {
   "cell_type": "code",
   "execution_count": 32,
   "id": "c3c47eac",
   "metadata": {},
   "outputs": [
    {
     "data": {
      "text/plain": [
       "quaternion(0.965925826289068, 0.211324865405187, 0.105662432702594, 0.105662432702594)"
      ]
     },
     "execution_count": 32,
     "metadata": {},
     "output_type": "execute_result"
    }
   ],
   "source": [
    "# usando biblioteca nympy-quartenion pra facilitar a multiplicação\n",
    "import quaternion\n",
    "q1 = np.quaternion(eixo_1_girado[0],eixo_1_girado[1],eixo_1_girado[2],eixo_1_girado[3])\n",
    "q2 = np.quaternion(eixo_2_girado[0],eixo_2_girado[1],eixo_2_girado[2],eixo_2_girado[3])\n",
    "q1"
   ]
  },
  {
   "cell_type": "markdown",
   "id": "d2aeb144",
   "metadata": {},
   "source": [
    "Criamos um novo quaternion, que é o produto dos 2 primeiros giros:"
   ]
  },
  {
   "cell_type": "code",
   "execution_count": 33,
   "id": "b26f392e",
   "metadata": {},
   "outputs": [
    {
     "data": {
      "text/plain": [
       "quaternion(0.753414863617681, 0.240597873464435, 0.599629244651418, -0.122161677800828)"
      ]
     },
     "execution_count": 33,
     "metadata": {},
     "output_type": "execute_result"
    }
   ],
   "source": [
    "#novo quaternion\n",
    "q3 = q1 * q2\n",
    "q3"
   ]
  },
  {
   "cell_type": "markdown",
   "id": "986b9a7c",
   "metadata": {},
   "source": [
    "Descobrimos o giro de retorno através do arco cosseno:"
   ]
  },
  {
   "cell_type": "code",
   "execution_count": 34,
   "id": "b9563a81",
   "metadata": {},
   "outputs": [
    {
     "data": {
      "text/plain": [
       "82.2258876952747"
      ]
     },
     "execution_count": 34,
     "metadata": {},
     "output_type": "execute_result"
    }
   ],
   "source": [
    "# q3[0] escalar\n",
    "escalar_q3 = 0.753414863617681\n",
    "angulo = np.degrees(np.arccos(escalar_q3))*2\n",
    "angulo"
   ]
  },
  {
   "cell_type": "code",
   "execution_count": 35,
   "id": "85e2f31f",
   "metadata": {},
   "outputs": [
    {
     "data": {
      "text/plain": [
       "0.7175562353288176"
      ]
     },
     "execution_count": 35,
     "metadata": {},
     "output_type": "execute_result"
    }
   ],
   "source": [
    "angulo_rad = np.radians(angulo/2)\n",
    "angulo_rad"
   ]
  },
  {
   "cell_type": "code",
   "execution_count": 36,
   "id": "711ed5a1",
   "metadata": {},
   "outputs": [
    {
     "data": {
      "text/plain": [
       "0.6575454686027052"
      ]
     },
     "execution_count": 36,
     "metadata": {},
     "output_type": "execute_result"
    }
   ],
   "source": [
    "np.sin(angulo_rad)"
   ]
  },
  {
   "cell_type": "markdown",
   "id": "ce4a59ae",
   "metadata": {},
   "source": [
    "Descobrimos o novo eixo através da decomposição do eixo girado pelo ângulo, porém falta corrigir a parte escalar:"
   ]
  },
  {
   "cell_type": "code",
   "execution_count": 37,
   "id": "0a1b8a7a",
   "metadata": {},
   "outputs": [
    {
     "data": {
      "text/plain": [
       "quaternion(1.14579888326004, 0.36590302108797, 0.911920579310872, -0.185784380904371)"
      ]
     },
     "execution_count": 37,
     "metadata": {},
     "output_type": "execute_result"
    }
   ],
   "source": [
    "q3 = q3/np.sin(angulo_rad)\n",
    "q3"
   ]
  },
  {
   "cell_type": "code",
   "execution_count": 38,
   "id": "7004bf07",
   "metadata": {},
   "outputs": [
    {
     "name": "stdout",
     "output_type": "stream",
     "text": [
      "ângulo para voltar à posição original: -82.2258876952747\n",
      "\n",
      "novo eixo:[ 0.          0.36590302  0.91192058 -0.18578438]\n"
     ]
    }
   ],
   "source": [
    "q3 = quaternion.as_float_array(q3)\n",
    "q3[0] = 0\n",
    "print(f\"ângulo para voltar à posição original: {-angulo}\\n\")\n",
    "print(f\"novo eixo:{q3}\")"
   ]
  },
  {
   "cell_type": "code",
   "execution_count": null,
   "id": "243026a1",
   "metadata": {},
   "outputs": [],
   "source": []
  }
 ],
 "metadata": {
  "kernelspec": {
   "display_name": "Python 3 (ipykernel)",
   "language": "python",
   "name": "python3"
  },
  "language_info": {
   "codemirror_mode": {
    "name": "ipython",
    "version": 3
   },
   "file_extension": ".py",
   "mimetype": "text/x-python",
   "name": "python",
   "nbconvert_exporter": "python",
   "pygments_lexer": "ipython3",
   "version": "3.8.13"
  }
 },
 "nbformat": 4,
 "nbformat_minor": 5
}
